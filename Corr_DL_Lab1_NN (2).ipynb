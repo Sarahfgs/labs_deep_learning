{
  "nbformat": 4,
  "nbformat_minor": 0,
  "metadata": {
    "colab": {
      "provenance": [],
      "gpuType": "T4"
    },
    "kernelspec": {
      "name": "python3",
      "display_name": "Python 3"
    },
    "language_info": {
      "name": "python"
    },
    "accelerator": "GPU"
  },
  "cells": [
    {
      "cell_type": "markdown",
      "source": [
        "# Regression with DNN"
      ],
      "metadata": {
        "id": "657JLvobVUwO"
      }
    },
    {
      "cell_type": "markdown",
      "source": [
        "**Objectives :**\n",
        "\n",
        "* Predicts housing prices from a set of house features.\n",
        "* Understanding the principle and the architecture of a regression with a dense neural network with backup and restore of the trained model.\n",
        "\n",
        "The [Boston Housing Prices Dataset](https://www.cs.toronto.edu/~delve/data/boston/bostonDetail.html) consists of price of houses in various places in Boston.\n",
        "Alongside with price, the dataset also provide these information :\n",
        "\n",
        "* CRIM: This is the per capita crime rate by town\n",
        "* ZN: This is the proportion of residential land zoned for lots larger than 25,000 sq.ft\n",
        "* INDUS: This is the proportion of non-retail business acres per town\n",
        "* CHAS: This is the Charles River dummy variable (this is equal to 1 if tract bounds river; 0 otherwise)\n",
        "* NOX: This is the nitric oxides concentration (parts per 10 million)\n",
        "* RM: This is the average number of rooms per dwelling\n",
        "* AGE: This is the proportion of owner-occupied units built prior to 1940\n",
        "* DIS: This is the weighted distances to five Boston employment centers\n",
        "* RAD: This is the index of accessibility to radial highways\n",
        "* TAX: This is the full-value property-tax rate per 10,000 dollars\n",
        "* PTRATIO: This is the pupil-teacher ratio by town\n",
        "* B: This is calculated as 1000(Bk — 0.63)^2, where Bk is the proportion of people of African American descent by town\n",
        "* LSTAT: This is the percentage lower status of the population\n",
        "* MEDV: This is the median value of owner-occupied homes in 1000 dollars\n",
        "\n",
        "**What we're going to do :**\n",
        "\n",
        "* (Retrieve data)\n",
        "* (Preparing the data)\n",
        "* (Build a model)\n",
        "* Train and save the model\n",
        "* Restore saved model\n",
        "* Evaluate the model\n",
        "* Make some predictions\n"
      ],
      "metadata": {
        "id": "o5woqp05VuWR"
      }
    },
    {
      "cell_type": "code",
      "execution_count": null,
      "metadata": {
        "id": "X_N8j7NlK95Q"
      },
      "outputs": [],
      "source": [
        "# import os\n",
        "# os.environ['TF_CPP_MIN_LOG_LEVEL'] = '2'\n",
        "\n",
        "import tensorflow as tf\n",
        "from tensorflow import keras\n",
        "\n",
        "import numpy as np\n",
        "import matplotlib.pyplot as plt\n",
        "import pandas as pd\n",
        "import os,sys\n",
        "\n",
        "from IPython.display import Markdown\n",
        "from importlib import reload\n"
      ]
    },
    {
      "cell_type": "code",
      "source": [
        "from google.colab import files\n",
        "uploaded = files.upload()"
      ],
      "metadata": {
        "colab": {
          "base_uri": "https://localhost:8080/",
          "height": 39
        },
        "id": "JSBaR2oheVaV",
        "outputId": "5fb93570-b3d7-4c47-96e1-3b6ddfebbd28"
      },
      "execution_count": null,
      "outputs": [
        {
          "output_type": "display_data",
          "data": {
            "text/plain": [
              "<IPython.core.display.HTML object>"
            ],
            "text/html": [
              "\n",
              "     <input type=\"file\" id=\"files-ff1c6cf3-7661-4593-a4ca-e6c9fcffdfca\" name=\"files[]\" multiple disabled\n",
              "        style=\"border:none\" />\n",
              "     <output id=\"result-ff1c6cf3-7661-4593-a4ca-e6c9fcffdfca\">\n",
              "      Upload widget is only available when the cell has been executed in the\n",
              "      current browser session. Please rerun this cell to enable.\n",
              "      </output>\n",
              "      <script>// Copyright 2017 Google LLC\n",
              "//\n",
              "// Licensed under the Apache License, Version 2.0 (the \"License\");\n",
              "// you may not use this file except in compliance with the License.\n",
              "// You may obtain a copy of the License at\n",
              "//\n",
              "//      http://www.apache.org/licenses/LICENSE-2.0\n",
              "//\n",
              "// Unless required by applicable law or agreed to in writing, software\n",
              "// distributed under the License is distributed on an \"AS IS\" BASIS,\n",
              "// WITHOUT WARRANTIES OR CONDITIONS OF ANY KIND, either express or implied.\n",
              "// See the License for the specific language governing permissions and\n",
              "// limitations under the License.\n",
              "\n",
              "/**\n",
              " * @fileoverview Helpers for google.colab Python module.\n",
              " */\n",
              "(function(scope) {\n",
              "function span(text, styleAttributes = {}) {\n",
              "  const element = document.createElement('span');\n",
              "  element.textContent = text;\n",
              "  for (const key of Object.keys(styleAttributes)) {\n",
              "    element.style[key] = styleAttributes[key];\n",
              "  }\n",
              "  return element;\n",
              "}\n",
              "\n",
              "// Max number of bytes which will be uploaded at a time.\n",
              "const MAX_PAYLOAD_SIZE = 100 * 1024;\n",
              "\n",
              "function _uploadFiles(inputId, outputId) {\n",
              "  const steps = uploadFilesStep(inputId, outputId);\n",
              "  const outputElement = document.getElementById(outputId);\n",
              "  // Cache steps on the outputElement to make it available for the next call\n",
              "  // to uploadFilesContinue from Python.\n",
              "  outputElement.steps = steps;\n",
              "\n",
              "  return _uploadFilesContinue(outputId);\n",
              "}\n",
              "\n",
              "// This is roughly an async generator (not supported in the browser yet),\n",
              "// where there are multiple asynchronous steps and the Python side is going\n",
              "// to poll for completion of each step.\n",
              "// This uses a Promise to block the python side on completion of each step,\n",
              "// then passes the result of the previous step as the input to the next step.\n",
              "function _uploadFilesContinue(outputId) {\n",
              "  const outputElement = document.getElementById(outputId);\n",
              "  const steps = outputElement.steps;\n",
              "\n",
              "  const next = steps.next(outputElement.lastPromiseValue);\n",
              "  return Promise.resolve(next.value.promise).then((value) => {\n",
              "    // Cache the last promise value to make it available to the next\n",
              "    // step of the generator.\n",
              "    outputElement.lastPromiseValue = value;\n",
              "    return next.value.response;\n",
              "  });\n",
              "}\n",
              "\n",
              "/**\n",
              " * Generator function which is called between each async step of the upload\n",
              " * process.\n",
              " * @param {string} inputId Element ID of the input file picker element.\n",
              " * @param {string} outputId Element ID of the output display.\n",
              " * @return {!Iterable<!Object>} Iterable of next steps.\n",
              " */\n",
              "function* uploadFilesStep(inputId, outputId) {\n",
              "  const inputElement = document.getElementById(inputId);\n",
              "  inputElement.disabled = false;\n",
              "\n",
              "  const outputElement = document.getElementById(outputId);\n",
              "  outputElement.innerHTML = '';\n",
              "\n",
              "  const pickedPromise = new Promise((resolve) => {\n",
              "    inputElement.addEventListener('change', (e) => {\n",
              "      resolve(e.target.files);\n",
              "    });\n",
              "  });\n",
              "\n",
              "  const cancel = document.createElement('button');\n",
              "  inputElement.parentElement.appendChild(cancel);\n",
              "  cancel.textContent = 'Cancel upload';\n",
              "  const cancelPromise = new Promise((resolve) => {\n",
              "    cancel.onclick = () => {\n",
              "      resolve(null);\n",
              "    };\n",
              "  });\n",
              "\n",
              "  // Wait for the user to pick the files.\n",
              "  const files = yield {\n",
              "    promise: Promise.race([pickedPromise, cancelPromise]),\n",
              "    response: {\n",
              "      action: 'starting',\n",
              "    }\n",
              "  };\n",
              "\n",
              "  cancel.remove();\n",
              "\n",
              "  // Disable the input element since further picks are not allowed.\n",
              "  inputElement.disabled = true;\n",
              "\n",
              "  if (!files) {\n",
              "    return {\n",
              "      response: {\n",
              "        action: 'complete',\n",
              "      }\n",
              "    };\n",
              "  }\n",
              "\n",
              "  for (const file of files) {\n",
              "    const li = document.createElement('li');\n",
              "    li.append(span(file.name, {fontWeight: 'bold'}));\n",
              "    li.append(span(\n",
              "        `(${file.type || 'n/a'}) - ${file.size} bytes, ` +\n",
              "        `last modified: ${\n",
              "            file.lastModifiedDate ? file.lastModifiedDate.toLocaleDateString() :\n",
              "                                    'n/a'} - `));\n",
              "    const percent = span('0% done');\n",
              "    li.appendChild(percent);\n",
              "\n",
              "    outputElement.appendChild(li);\n",
              "\n",
              "    const fileDataPromise = new Promise((resolve) => {\n",
              "      const reader = new FileReader();\n",
              "      reader.onload = (e) => {\n",
              "        resolve(e.target.result);\n",
              "      };\n",
              "      reader.readAsArrayBuffer(file);\n",
              "    });\n",
              "    // Wait for the data to be ready.\n",
              "    let fileData = yield {\n",
              "      promise: fileDataPromise,\n",
              "      response: {\n",
              "        action: 'continue',\n",
              "      }\n",
              "    };\n",
              "\n",
              "    // Use a chunked sending to avoid message size limits. See b/62115660.\n",
              "    let position = 0;\n",
              "    do {\n",
              "      const length = Math.min(fileData.byteLength - position, MAX_PAYLOAD_SIZE);\n",
              "      const chunk = new Uint8Array(fileData, position, length);\n",
              "      position += length;\n",
              "\n",
              "      const base64 = btoa(String.fromCharCode.apply(null, chunk));\n",
              "      yield {\n",
              "        response: {\n",
              "          action: 'append',\n",
              "          file: file.name,\n",
              "          data: base64,\n",
              "        },\n",
              "      };\n",
              "\n",
              "      let percentDone = fileData.byteLength === 0 ?\n",
              "          100 :\n",
              "          Math.round((position / fileData.byteLength) * 100);\n",
              "      percent.textContent = `${percentDone}% done`;\n",
              "\n",
              "    } while (position < fileData.byteLength);\n",
              "  }\n",
              "\n",
              "  // All done.\n",
              "  yield {\n",
              "    response: {\n",
              "      action: 'complete',\n",
              "    }\n",
              "  };\n",
              "}\n",
              "\n",
              "scope.google = scope.google || {};\n",
              "scope.google.colab = scope.google.colab || {};\n",
              "scope.google.colab._files = {\n",
              "  _uploadFiles,\n",
              "  _uploadFilesContinue,\n",
              "};\n",
              "})(self);\n",
              "</script> "
            ]
          },
          "metadata": {}
        }
      ]
    },
    {
      "cell_type": "markdown",
      "source": [
        "Load the boston housing dataset"
      ],
      "metadata": {
        "id": "6d8HIl4AM1Dx"
      }
    },
    {
      "cell_type": "code",
      "source": [
        "import pandas as pd\n",
        "from google.colab import drive\n",
        "drive.mount('/content/gdrive')\n",
        "data = pd.read_csv('gdrive/My Drive/BostonHousing.csv', sep=',',header=0)"
      ],
      "metadata": {
        "colab": {
          "base_uri": "https://localhost:8080/"
        },
        "id": "KdjivSeQdX6M",
        "outputId": "7e11ed6a-7359-47d1-b064-992cd8ad6879"
      },
      "execution_count": null,
      "outputs": [
        {
          "output_type": "stream",
          "name": "stdout",
          "text": [
            "Mounted at /content/gdrive\n"
          ]
        }
      ]
    },
    {
      "cell_type": "code",
      "source": [
        "\n",
        "\n",
        "display(data.head(5).style.format(\"{0:.2f}\"))\n",
        "print('Missing Data : ',data.isna().sum().sum(), '  Shape is : ', data.shape)\n",
        "\n"
      ],
      "metadata": {
        "colab": {
          "base_uri": "https://localhost:8080/",
          "height": 223
        },
        "id": "V_wB6gOtYZg5",
        "outputId": "908205ab-9939-4ed2-ab05-e2a742e3e767"
      },
      "execution_count": null,
      "outputs": [
        {
          "output_type": "display_data",
          "data": {
            "text/plain": [
              "<pandas.io.formats.style.Styler at 0x7f168061cc70>"
            ],
            "text/html": [
              "<style type=\"text/css\">\n",
              "</style>\n",
              "<table id=\"T_5a5f1\" class=\"dataframe\">\n",
              "  <thead>\n",
              "    <tr>\n",
              "      <th class=\"blank level0\" >&nbsp;</th>\n",
              "      <th id=\"T_5a5f1_level0_col0\" class=\"col_heading level0 col0\" >crim</th>\n",
              "      <th id=\"T_5a5f1_level0_col1\" class=\"col_heading level0 col1\" >zn</th>\n",
              "      <th id=\"T_5a5f1_level0_col2\" class=\"col_heading level0 col2\" >indus</th>\n",
              "      <th id=\"T_5a5f1_level0_col3\" class=\"col_heading level0 col3\" >chas</th>\n",
              "      <th id=\"T_5a5f1_level0_col4\" class=\"col_heading level0 col4\" >nox</th>\n",
              "      <th id=\"T_5a5f1_level0_col5\" class=\"col_heading level0 col5\" >rm</th>\n",
              "      <th id=\"T_5a5f1_level0_col6\" class=\"col_heading level0 col6\" >age</th>\n",
              "      <th id=\"T_5a5f1_level0_col7\" class=\"col_heading level0 col7\" >dis</th>\n",
              "      <th id=\"T_5a5f1_level0_col8\" class=\"col_heading level0 col8\" >rad</th>\n",
              "      <th id=\"T_5a5f1_level0_col9\" class=\"col_heading level0 col9\" >tax</th>\n",
              "      <th id=\"T_5a5f1_level0_col10\" class=\"col_heading level0 col10\" >ptratio</th>\n",
              "      <th id=\"T_5a5f1_level0_col11\" class=\"col_heading level0 col11\" >b</th>\n",
              "      <th id=\"T_5a5f1_level0_col12\" class=\"col_heading level0 col12\" >lstat</th>\n",
              "      <th id=\"T_5a5f1_level0_col13\" class=\"col_heading level0 col13\" >medv</th>\n",
              "    </tr>\n",
              "  </thead>\n",
              "  <tbody>\n",
              "    <tr>\n",
              "      <th id=\"T_5a5f1_level0_row0\" class=\"row_heading level0 row0\" >0</th>\n",
              "      <td id=\"T_5a5f1_row0_col0\" class=\"data row0 col0\" >0.01</td>\n",
              "      <td id=\"T_5a5f1_row0_col1\" class=\"data row0 col1\" >18.00</td>\n",
              "      <td id=\"T_5a5f1_row0_col2\" class=\"data row0 col2\" >2.31</td>\n",
              "      <td id=\"T_5a5f1_row0_col3\" class=\"data row0 col3\" >0.00</td>\n",
              "      <td id=\"T_5a5f1_row0_col4\" class=\"data row0 col4\" >0.54</td>\n",
              "      <td id=\"T_5a5f1_row0_col5\" class=\"data row0 col5\" >6.58</td>\n",
              "      <td id=\"T_5a5f1_row0_col6\" class=\"data row0 col6\" >65.20</td>\n",
              "      <td id=\"T_5a5f1_row0_col7\" class=\"data row0 col7\" >4.09</td>\n",
              "      <td id=\"T_5a5f1_row0_col8\" class=\"data row0 col8\" >1.00</td>\n",
              "      <td id=\"T_5a5f1_row0_col9\" class=\"data row0 col9\" >296.00</td>\n",
              "      <td id=\"T_5a5f1_row0_col10\" class=\"data row0 col10\" >15.30</td>\n",
              "      <td id=\"T_5a5f1_row0_col11\" class=\"data row0 col11\" >396.90</td>\n",
              "      <td id=\"T_5a5f1_row0_col12\" class=\"data row0 col12\" >4.98</td>\n",
              "      <td id=\"T_5a5f1_row0_col13\" class=\"data row0 col13\" >24.00</td>\n",
              "    </tr>\n",
              "    <tr>\n",
              "      <th id=\"T_5a5f1_level0_row1\" class=\"row_heading level0 row1\" >1</th>\n",
              "      <td id=\"T_5a5f1_row1_col0\" class=\"data row1 col0\" >0.03</td>\n",
              "      <td id=\"T_5a5f1_row1_col1\" class=\"data row1 col1\" >0.00</td>\n",
              "      <td id=\"T_5a5f1_row1_col2\" class=\"data row1 col2\" >7.07</td>\n",
              "      <td id=\"T_5a5f1_row1_col3\" class=\"data row1 col3\" >0.00</td>\n",
              "      <td id=\"T_5a5f1_row1_col4\" class=\"data row1 col4\" >0.47</td>\n",
              "      <td id=\"T_5a5f1_row1_col5\" class=\"data row1 col5\" >6.42</td>\n",
              "      <td id=\"T_5a5f1_row1_col6\" class=\"data row1 col6\" >78.90</td>\n",
              "      <td id=\"T_5a5f1_row1_col7\" class=\"data row1 col7\" >4.97</td>\n",
              "      <td id=\"T_5a5f1_row1_col8\" class=\"data row1 col8\" >2.00</td>\n",
              "      <td id=\"T_5a5f1_row1_col9\" class=\"data row1 col9\" >242.00</td>\n",
              "      <td id=\"T_5a5f1_row1_col10\" class=\"data row1 col10\" >17.80</td>\n",
              "      <td id=\"T_5a5f1_row1_col11\" class=\"data row1 col11\" >396.90</td>\n",
              "      <td id=\"T_5a5f1_row1_col12\" class=\"data row1 col12\" >9.14</td>\n",
              "      <td id=\"T_5a5f1_row1_col13\" class=\"data row1 col13\" >21.60</td>\n",
              "    </tr>\n",
              "    <tr>\n",
              "      <th id=\"T_5a5f1_level0_row2\" class=\"row_heading level0 row2\" >2</th>\n",
              "      <td id=\"T_5a5f1_row2_col0\" class=\"data row2 col0\" >0.03</td>\n",
              "      <td id=\"T_5a5f1_row2_col1\" class=\"data row2 col1\" >0.00</td>\n",
              "      <td id=\"T_5a5f1_row2_col2\" class=\"data row2 col2\" >7.07</td>\n",
              "      <td id=\"T_5a5f1_row2_col3\" class=\"data row2 col3\" >0.00</td>\n",
              "      <td id=\"T_5a5f1_row2_col4\" class=\"data row2 col4\" >0.47</td>\n",
              "      <td id=\"T_5a5f1_row2_col5\" class=\"data row2 col5\" >7.18</td>\n",
              "      <td id=\"T_5a5f1_row2_col6\" class=\"data row2 col6\" >61.10</td>\n",
              "      <td id=\"T_5a5f1_row2_col7\" class=\"data row2 col7\" >4.97</td>\n",
              "      <td id=\"T_5a5f1_row2_col8\" class=\"data row2 col8\" >2.00</td>\n",
              "      <td id=\"T_5a5f1_row2_col9\" class=\"data row2 col9\" >242.00</td>\n",
              "      <td id=\"T_5a5f1_row2_col10\" class=\"data row2 col10\" >17.80</td>\n",
              "      <td id=\"T_5a5f1_row2_col11\" class=\"data row2 col11\" >392.83</td>\n",
              "      <td id=\"T_5a5f1_row2_col12\" class=\"data row2 col12\" >4.03</td>\n",
              "      <td id=\"T_5a5f1_row2_col13\" class=\"data row2 col13\" >34.70</td>\n",
              "    </tr>\n",
              "    <tr>\n",
              "      <th id=\"T_5a5f1_level0_row3\" class=\"row_heading level0 row3\" >3</th>\n",
              "      <td id=\"T_5a5f1_row3_col0\" class=\"data row3 col0\" >0.03</td>\n",
              "      <td id=\"T_5a5f1_row3_col1\" class=\"data row3 col1\" >0.00</td>\n",
              "      <td id=\"T_5a5f1_row3_col2\" class=\"data row3 col2\" >2.18</td>\n",
              "      <td id=\"T_5a5f1_row3_col3\" class=\"data row3 col3\" >0.00</td>\n",
              "      <td id=\"T_5a5f1_row3_col4\" class=\"data row3 col4\" >0.46</td>\n",
              "      <td id=\"T_5a5f1_row3_col5\" class=\"data row3 col5\" >7.00</td>\n",
              "      <td id=\"T_5a5f1_row3_col6\" class=\"data row3 col6\" >45.80</td>\n",
              "      <td id=\"T_5a5f1_row3_col7\" class=\"data row3 col7\" >6.06</td>\n",
              "      <td id=\"T_5a5f1_row3_col8\" class=\"data row3 col8\" >3.00</td>\n",
              "      <td id=\"T_5a5f1_row3_col9\" class=\"data row3 col9\" >222.00</td>\n",
              "      <td id=\"T_5a5f1_row3_col10\" class=\"data row3 col10\" >18.70</td>\n",
              "      <td id=\"T_5a5f1_row3_col11\" class=\"data row3 col11\" >394.63</td>\n",
              "      <td id=\"T_5a5f1_row3_col12\" class=\"data row3 col12\" >2.94</td>\n",
              "      <td id=\"T_5a5f1_row3_col13\" class=\"data row3 col13\" >33.40</td>\n",
              "    </tr>\n",
              "    <tr>\n",
              "      <th id=\"T_5a5f1_level0_row4\" class=\"row_heading level0 row4\" >4</th>\n",
              "      <td id=\"T_5a5f1_row4_col0\" class=\"data row4 col0\" >0.07</td>\n",
              "      <td id=\"T_5a5f1_row4_col1\" class=\"data row4 col1\" >0.00</td>\n",
              "      <td id=\"T_5a5f1_row4_col2\" class=\"data row4 col2\" >2.18</td>\n",
              "      <td id=\"T_5a5f1_row4_col3\" class=\"data row4 col3\" >0.00</td>\n",
              "      <td id=\"T_5a5f1_row4_col4\" class=\"data row4 col4\" >0.46</td>\n",
              "      <td id=\"T_5a5f1_row4_col5\" class=\"data row4 col5\" >7.15</td>\n",
              "      <td id=\"T_5a5f1_row4_col6\" class=\"data row4 col6\" >54.20</td>\n",
              "      <td id=\"T_5a5f1_row4_col7\" class=\"data row4 col7\" >6.06</td>\n",
              "      <td id=\"T_5a5f1_row4_col8\" class=\"data row4 col8\" >3.00</td>\n",
              "      <td id=\"T_5a5f1_row4_col9\" class=\"data row4 col9\" >222.00</td>\n",
              "      <td id=\"T_5a5f1_row4_col10\" class=\"data row4 col10\" >18.70</td>\n",
              "      <td id=\"T_5a5f1_row4_col11\" class=\"data row4 col11\" >396.90</td>\n",
              "      <td id=\"T_5a5f1_row4_col12\" class=\"data row4 col12\" >5.33</td>\n",
              "      <td id=\"T_5a5f1_row4_col13\" class=\"data row4 col13\" >36.20</td>\n",
              "    </tr>\n",
              "  </tbody>\n",
              "</table>\n"
            ]
          },
          "metadata": {}
        },
        {
          "output_type": "stream",
          "name": "stdout",
          "text": [
            "Missing Data :  0   Shape is :  (506, 14)\n"
          ]
        }
      ]
    },
    {
      "cell_type": "markdown",
      "source": [
        "## Exe 1: Data Preparation\n",
        "\n",
        "\n",
        "Use 70% of the data for training and 30% for validation.\n",
        "The dataset is shuffled and shared between learning and testing.\n",
        "x will be input data and y the expected output\n",
        "Check the data shape and sizes."
      ],
      "metadata": {
        "id": "uSJDYfo5fPHC"
      }
    },
    {
      "cell_type": "code",
      "source": [
        "# ---- Shuffle and Split => train, test\n",
        "#\n",
        "data       = data.sample(frac=1., axis=0)\n",
        "data_train = data.sample(frac=0.7, axis=0)\n",
        "data_test  = data.drop(data_train.index)\n",
        "\n",
        "# ---- Split => x,y (medv is price)\n",
        "#\n",
        "x_train = data_train.drop('medv',  axis=1)\n",
        "y_train = data_train['medv']\n",
        "x_test  = data_test.drop('medv',   axis=1)\n",
        "y_test  = data_test['medv']\n",
        "\n",
        "print('Original data shape was : ',data.shape)\n",
        "print('x_train : ',x_train.shape, 'y_train : ',y_train.shape)\n",
        "print('x_test  : ',x_test.shape,  'y_test  : ',y_test.shape)"
      ],
      "metadata": {
        "colab": {
          "base_uri": "https://localhost:8080/"
        },
        "id": "w4qzQudGfPsH",
        "outputId": "9a3b6c92-1d95-419d-8a01-baa0d1805b9f"
      },
      "execution_count": null,
      "outputs": [
        {
          "output_type": "stream",
          "name": "stdout",
          "text": [
            "Original data shape was :  (506, 14)\n",
            "x_train :  (354, 13) y_train :  (354,)\n",
            "x_test  :  (152, 13) y_test  :  (152,)\n"
          ]
        }
      ]
    },
    {
      "cell_type": "markdown",
      "source": [
        "## Exe 2: Data normalization\n",
        "\n",
        "Normalizing data For each feature in the input data (a column in the\n",
        "input data matrix), subtract the mean of the feature and divide by the standard\n",
        "deviation\n",
        "\n",
        "**Note :**\n",
        "\n",
        "* All input data must be normalized, train and test.\n",
        "* To do this we will subtract the mean and divide by the standard deviation.\n",
        "* But test data should not be used in any way, even for normalization.\n",
        "* The mean and the standard deviation will therefore only be calculated with the train data.\n"
      ],
      "metadata": {
        "id": "kTIW5DG1gH3s"
      }
    },
    {
      "cell_type": "code",
      "source": [
        "display(x_train.describe().style.format(\"{0:.2f}\").set_caption(\"Before normalization :\"))\n",
        "\n",
        "mean = x_train.mean()\n",
        "std  = x_train.std()\n",
        "x_train = (x_train - mean) / std\n",
        "x_test  = (x_test  - mean) / std\n",
        "\n",
        "display(x_train.describe().style.format(\"{0:.2f}\").set_caption(\"After normalization :\"))\n",
        "display(x_train.head(5).style.format(\"{0:.2f}\").set_caption(\"Few lines of the dataset :\"))\n",
        "\n",
        "x_train, y_train = np.array(x_train), np.array(y_train)\n",
        "x_test,  y_test  = np.array(x_test),  np.array(y_test)"
      ],
      "metadata": {
        "colab": {
          "base_uri": "https://localhost:8080/",
          "height": 824
        },
        "id": "irUk5OvCK9qm",
        "outputId": "ac303f44-85a9-44b8-e1d2-cd02db087794"
      },
      "execution_count": null,
      "outputs": [
        {
          "output_type": "display_data",
          "data": {
            "text/plain": [
              "<pandas.io.formats.style.Styler at 0x7aeedf2f7bb0>"
            ],
            "text/html": [
              "<style type=\"text/css\">\n",
              "</style>\n",
              "<table id=\"T_282ec\" class=\"dataframe\">\n",
              "  <caption>Before normalization :</caption>\n",
              "  <thead>\n",
              "    <tr>\n",
              "      <th class=\"blank level0\" >&nbsp;</th>\n",
              "      <th id=\"T_282ec_level0_col0\" class=\"col_heading level0 col0\" >crim</th>\n",
              "      <th id=\"T_282ec_level0_col1\" class=\"col_heading level0 col1\" >zn</th>\n",
              "      <th id=\"T_282ec_level0_col2\" class=\"col_heading level0 col2\" >indus</th>\n",
              "      <th id=\"T_282ec_level0_col3\" class=\"col_heading level0 col3\" >chas</th>\n",
              "      <th id=\"T_282ec_level0_col4\" class=\"col_heading level0 col4\" >nox</th>\n",
              "      <th id=\"T_282ec_level0_col5\" class=\"col_heading level0 col5\" >rm</th>\n",
              "      <th id=\"T_282ec_level0_col6\" class=\"col_heading level0 col6\" >age</th>\n",
              "      <th id=\"T_282ec_level0_col7\" class=\"col_heading level0 col7\" >dis</th>\n",
              "      <th id=\"T_282ec_level0_col8\" class=\"col_heading level0 col8\" >rad</th>\n",
              "      <th id=\"T_282ec_level0_col9\" class=\"col_heading level0 col9\" >tax</th>\n",
              "      <th id=\"T_282ec_level0_col10\" class=\"col_heading level0 col10\" >ptratio</th>\n",
              "      <th id=\"T_282ec_level0_col11\" class=\"col_heading level0 col11\" >b</th>\n",
              "      <th id=\"T_282ec_level0_col12\" class=\"col_heading level0 col12\" >lstat</th>\n",
              "    </tr>\n",
              "  </thead>\n",
              "  <tbody>\n",
              "    <tr>\n",
              "      <th id=\"T_282ec_level0_row0\" class=\"row_heading level0 row0\" >count</th>\n",
              "      <td id=\"T_282ec_row0_col0\" class=\"data row0 col0\" >354.00</td>\n",
              "      <td id=\"T_282ec_row0_col1\" class=\"data row0 col1\" >354.00</td>\n",
              "      <td id=\"T_282ec_row0_col2\" class=\"data row0 col2\" >354.00</td>\n",
              "      <td id=\"T_282ec_row0_col3\" class=\"data row0 col3\" >354.00</td>\n",
              "      <td id=\"T_282ec_row0_col4\" class=\"data row0 col4\" >354.00</td>\n",
              "      <td id=\"T_282ec_row0_col5\" class=\"data row0 col5\" >354.00</td>\n",
              "      <td id=\"T_282ec_row0_col6\" class=\"data row0 col6\" >354.00</td>\n",
              "      <td id=\"T_282ec_row0_col7\" class=\"data row0 col7\" >354.00</td>\n",
              "      <td id=\"T_282ec_row0_col8\" class=\"data row0 col8\" >354.00</td>\n",
              "      <td id=\"T_282ec_row0_col9\" class=\"data row0 col9\" >354.00</td>\n",
              "      <td id=\"T_282ec_row0_col10\" class=\"data row0 col10\" >354.00</td>\n",
              "      <td id=\"T_282ec_row0_col11\" class=\"data row0 col11\" >354.00</td>\n",
              "      <td id=\"T_282ec_row0_col12\" class=\"data row0 col12\" >354.00</td>\n",
              "    </tr>\n",
              "    <tr>\n",
              "      <th id=\"T_282ec_level0_row1\" class=\"row_heading level0 row1\" >mean</th>\n",
              "      <td id=\"T_282ec_row1_col0\" class=\"data row1 col0\" >3.97</td>\n",
              "      <td id=\"T_282ec_row1_col1\" class=\"data row1 col1\" >11.90</td>\n",
              "      <td id=\"T_282ec_row1_col2\" class=\"data row1 col2\" >11.06</td>\n",
              "      <td id=\"T_282ec_row1_col3\" class=\"data row1 col3\" >0.07</td>\n",
              "      <td id=\"T_282ec_row1_col4\" class=\"data row1 col4\" >0.55</td>\n",
              "      <td id=\"T_282ec_row1_col5\" class=\"data row1 col5\" >6.29</td>\n",
              "      <td id=\"T_282ec_row1_col6\" class=\"data row1 col6\" >68.33</td>\n",
              "      <td id=\"T_282ec_row1_col7\" class=\"data row1 col7\" >3.85</td>\n",
              "      <td id=\"T_282ec_row1_col8\" class=\"data row1 col8\" >9.77</td>\n",
              "      <td id=\"T_282ec_row1_col9\" class=\"data row1 col9\" >407.93</td>\n",
              "      <td id=\"T_282ec_row1_col10\" class=\"data row1 col10\" >18.54</td>\n",
              "      <td id=\"T_282ec_row1_col11\" class=\"data row1 col11\" >355.67</td>\n",
              "      <td id=\"T_282ec_row1_col12\" class=\"data row1 col12\" >12.50</td>\n",
              "    </tr>\n",
              "    <tr>\n",
              "      <th id=\"T_282ec_level0_row2\" class=\"row_heading level0 row2\" >std</th>\n",
              "      <td id=\"T_282ec_row2_col0\" class=\"data row2 col0\" >9.71</td>\n",
              "      <td id=\"T_282ec_row2_col1\" class=\"data row2 col1\" >23.62</td>\n",
              "      <td id=\"T_282ec_row2_col2\" class=\"data row2 col2\" >6.78</td>\n",
              "      <td id=\"T_282ec_row2_col3\" class=\"data row2 col3\" >0.26</td>\n",
              "      <td id=\"T_282ec_row2_col4\" class=\"data row2 col4\" >0.11</td>\n",
              "      <td id=\"T_282ec_row2_col5\" class=\"data row2 col5\" >0.69</td>\n",
              "      <td id=\"T_282ec_row2_col6\" class=\"data row2 col6\" >27.98</td>\n",
              "      <td id=\"T_282ec_row2_col7\" class=\"data row2 col7\" >2.15</td>\n",
              "      <td id=\"T_282ec_row2_col8\" class=\"data row2 col8\" >8.87</td>\n",
              "      <td id=\"T_282ec_row2_col9\" class=\"data row2 col9\" >170.27</td>\n",
              "      <td id=\"T_282ec_row2_col10\" class=\"data row2 col10\" >2.06</td>\n",
              "      <td id=\"T_282ec_row2_col11\" class=\"data row2 col11\" >92.79</td>\n",
              "      <td id=\"T_282ec_row2_col12\" class=\"data row2 col12\" >7.05</td>\n",
              "    </tr>\n",
              "    <tr>\n",
              "      <th id=\"T_282ec_level0_row3\" class=\"row_heading level0 row3\" >min</th>\n",
              "      <td id=\"T_282ec_row3_col0\" class=\"data row3 col0\" >0.01</td>\n",
              "      <td id=\"T_282ec_row3_col1\" class=\"data row3 col1\" >0.00</td>\n",
              "      <td id=\"T_282ec_row3_col2\" class=\"data row3 col2\" >0.74</td>\n",
              "      <td id=\"T_282ec_row3_col3\" class=\"data row3 col3\" >0.00</td>\n",
              "      <td id=\"T_282ec_row3_col4\" class=\"data row3 col4\" >0.39</td>\n",
              "      <td id=\"T_282ec_row3_col5\" class=\"data row3 col5\" >3.56</td>\n",
              "      <td id=\"T_282ec_row3_col6\" class=\"data row3 col6\" >2.90</td>\n",
              "      <td id=\"T_282ec_row3_col7\" class=\"data row3 col7\" >1.13</td>\n",
              "      <td id=\"T_282ec_row3_col8\" class=\"data row3 col8\" >1.00</td>\n",
              "      <td id=\"T_282ec_row3_col9\" class=\"data row3 col9\" >187.00</td>\n",
              "      <td id=\"T_282ec_row3_col10\" class=\"data row3 col10\" >12.60</td>\n",
              "      <td id=\"T_282ec_row3_col11\" class=\"data row3 col11\" >0.32</td>\n",
              "      <td id=\"T_282ec_row3_col12\" class=\"data row3 col12\" >1.73</td>\n",
              "    </tr>\n",
              "    <tr>\n",
              "      <th id=\"T_282ec_level0_row4\" class=\"row_heading level0 row4\" >25%</th>\n",
              "      <td id=\"T_282ec_row4_col0\" class=\"data row4 col0\" >0.08</td>\n",
              "      <td id=\"T_282ec_row4_col1\" class=\"data row4 col1\" >0.00</td>\n",
              "      <td id=\"T_282ec_row4_col2\" class=\"data row4 col2\" >5.19</td>\n",
              "      <td id=\"T_282ec_row4_col3\" class=\"data row4 col3\" >0.00</td>\n",
              "      <td id=\"T_282ec_row4_col4\" class=\"data row4 col4\" >0.45</td>\n",
              "      <td id=\"T_282ec_row4_col5\" class=\"data row4 col5\" >5.92</td>\n",
              "      <td id=\"T_282ec_row4_col6\" class=\"data row4 col6\" >46.83</td>\n",
              "      <td id=\"T_282ec_row4_col7\" class=\"data row4 col7\" >2.11</td>\n",
              "      <td id=\"T_282ec_row4_col8\" class=\"data row4 col8\" >4.00</td>\n",
              "      <td id=\"T_282ec_row4_col9\" class=\"data row4 col9\" >277.00</td>\n",
              "      <td id=\"T_282ec_row4_col10\" class=\"data row4 col10\" >17.40</td>\n",
              "      <td id=\"T_282ec_row4_col11\" class=\"data row4 col11\" >376.12</td>\n",
              "      <td id=\"T_282ec_row4_col12\" class=\"data row4 col12\" >6.91</td>\n",
              "    </tr>\n",
              "    <tr>\n",
              "      <th id=\"T_282ec_level0_row5\" class=\"row_heading level0 row5\" >50%</th>\n",
              "      <td id=\"T_282ec_row5_col0\" class=\"data row5 col0\" >0.23</td>\n",
              "      <td id=\"T_282ec_row5_col1\" class=\"data row5 col1\" >0.00</td>\n",
              "      <td id=\"T_282ec_row5_col2\" class=\"data row5 col2\" >9.69</td>\n",
              "      <td id=\"T_282ec_row5_col3\" class=\"data row5 col3\" >0.00</td>\n",
              "      <td id=\"T_282ec_row5_col4\" class=\"data row5 col4\" >0.53</td>\n",
              "      <td id=\"T_282ec_row5_col5\" class=\"data row5 col5\" >6.21</td>\n",
              "      <td id=\"T_282ec_row5_col6\" class=\"data row5 col6\" >76.70</td>\n",
              "      <td id=\"T_282ec_row5_col7\" class=\"data row5 col7\" >3.25</td>\n",
              "      <td id=\"T_282ec_row5_col8\" class=\"data row5 col8\" >5.00</td>\n",
              "      <td id=\"T_282ec_row5_col9\" class=\"data row5 col9\" >330.00</td>\n",
              "      <td id=\"T_282ec_row5_col10\" class=\"data row5 col10\" >19.10</td>\n",
              "      <td id=\"T_282ec_row5_col11\" class=\"data row5 col11\" >391.48</td>\n",
              "      <td id=\"T_282ec_row5_col12\" class=\"data row5 col12\" >10.61</td>\n",
              "    </tr>\n",
              "    <tr>\n",
              "      <th id=\"T_282ec_level0_row6\" class=\"row_heading level0 row6\" >75%</th>\n",
              "      <td id=\"T_282ec_row6_col0\" class=\"data row6 col0\" >3.99</td>\n",
              "      <td id=\"T_282ec_row6_col1\" class=\"data row6 col1\" >20.00</td>\n",
              "      <td id=\"T_282ec_row6_col2\" class=\"data row6 col2\" >18.10</td>\n",
              "      <td id=\"T_282ec_row6_col3\" class=\"data row6 col3\" >0.00</td>\n",
              "      <td id=\"T_282ec_row6_col4\" class=\"data row6 col4\" >0.62</td>\n",
              "      <td id=\"T_282ec_row6_col5\" class=\"data row6 col5\" >6.62</td>\n",
              "      <td id=\"T_282ec_row6_col6\" class=\"data row6 col6\" >93.57</td>\n",
              "      <td id=\"T_282ec_row6_col7\" class=\"data row6 col7\" >5.29</td>\n",
              "      <td id=\"T_282ec_row6_col8\" class=\"data row6 col8\" >24.00</td>\n",
              "      <td id=\"T_282ec_row6_col9\" class=\"data row6 col9\" >666.00</td>\n",
              "      <td id=\"T_282ec_row6_col10\" class=\"data row6 col10\" >20.20</td>\n",
              "      <td id=\"T_282ec_row6_col11\" class=\"data row6 col11\" >396.38</td>\n",
              "      <td id=\"T_282ec_row6_col12\" class=\"data row6 col12\" >16.96</td>\n",
              "    </tr>\n",
              "    <tr>\n",
              "      <th id=\"T_282ec_level0_row7\" class=\"row_heading level0 row7\" >max</th>\n",
              "      <td id=\"T_282ec_row7_col0\" class=\"data row7 col0\" >88.98</td>\n",
              "      <td id=\"T_282ec_row7_col1\" class=\"data row7 col1\" >100.00</td>\n",
              "      <td id=\"T_282ec_row7_col2\" class=\"data row7 col2\" >27.74</td>\n",
              "      <td id=\"T_282ec_row7_col3\" class=\"data row7 col3\" >1.00</td>\n",
              "      <td id=\"T_282ec_row7_col4\" class=\"data row7 col4\" >0.87</td>\n",
              "      <td id=\"T_282ec_row7_col5\" class=\"data row7 col5\" >8.72</td>\n",
              "      <td id=\"T_282ec_row7_col6\" class=\"data row7 col6\" >100.00</td>\n",
              "      <td id=\"T_282ec_row7_col7\" class=\"data row7 col7\" >12.13</td>\n",
              "      <td id=\"T_282ec_row7_col8\" class=\"data row7 col8\" >24.00</td>\n",
              "      <td id=\"T_282ec_row7_col9\" class=\"data row7 col9\" >711.00</td>\n",
              "      <td id=\"T_282ec_row7_col10\" class=\"data row7 col10\" >21.20</td>\n",
              "      <td id=\"T_282ec_row7_col11\" class=\"data row7 col11\" >396.90</td>\n",
              "      <td id=\"T_282ec_row7_col12\" class=\"data row7 col12\" >37.97</td>\n",
              "    </tr>\n",
              "  </tbody>\n",
              "</table>\n"
            ]
          },
          "metadata": {}
        },
        {
          "output_type": "display_data",
          "data": {
            "text/plain": [
              "<pandas.io.formats.style.Styler at 0x7aeedf2f7b80>"
            ],
            "text/html": [
              "<style type=\"text/css\">\n",
              "</style>\n",
              "<table id=\"T_b9543\" class=\"dataframe\">\n",
              "  <caption>After normalization :</caption>\n",
              "  <thead>\n",
              "    <tr>\n",
              "      <th class=\"blank level0\" >&nbsp;</th>\n",
              "      <th id=\"T_b9543_level0_col0\" class=\"col_heading level0 col0\" >crim</th>\n",
              "      <th id=\"T_b9543_level0_col1\" class=\"col_heading level0 col1\" >zn</th>\n",
              "      <th id=\"T_b9543_level0_col2\" class=\"col_heading level0 col2\" >indus</th>\n",
              "      <th id=\"T_b9543_level0_col3\" class=\"col_heading level0 col3\" >chas</th>\n",
              "      <th id=\"T_b9543_level0_col4\" class=\"col_heading level0 col4\" >nox</th>\n",
              "      <th id=\"T_b9543_level0_col5\" class=\"col_heading level0 col5\" >rm</th>\n",
              "      <th id=\"T_b9543_level0_col6\" class=\"col_heading level0 col6\" >age</th>\n",
              "      <th id=\"T_b9543_level0_col7\" class=\"col_heading level0 col7\" >dis</th>\n",
              "      <th id=\"T_b9543_level0_col8\" class=\"col_heading level0 col8\" >rad</th>\n",
              "      <th id=\"T_b9543_level0_col9\" class=\"col_heading level0 col9\" >tax</th>\n",
              "      <th id=\"T_b9543_level0_col10\" class=\"col_heading level0 col10\" >ptratio</th>\n",
              "      <th id=\"T_b9543_level0_col11\" class=\"col_heading level0 col11\" >b</th>\n",
              "      <th id=\"T_b9543_level0_col12\" class=\"col_heading level0 col12\" >lstat</th>\n",
              "    </tr>\n",
              "  </thead>\n",
              "  <tbody>\n",
              "    <tr>\n",
              "      <th id=\"T_b9543_level0_row0\" class=\"row_heading level0 row0\" >count</th>\n",
              "      <td id=\"T_b9543_row0_col0\" class=\"data row0 col0\" >354.00</td>\n",
              "      <td id=\"T_b9543_row0_col1\" class=\"data row0 col1\" >354.00</td>\n",
              "      <td id=\"T_b9543_row0_col2\" class=\"data row0 col2\" >354.00</td>\n",
              "      <td id=\"T_b9543_row0_col3\" class=\"data row0 col3\" >354.00</td>\n",
              "      <td id=\"T_b9543_row0_col4\" class=\"data row0 col4\" >354.00</td>\n",
              "      <td id=\"T_b9543_row0_col5\" class=\"data row0 col5\" >354.00</td>\n",
              "      <td id=\"T_b9543_row0_col6\" class=\"data row0 col6\" >354.00</td>\n",
              "      <td id=\"T_b9543_row0_col7\" class=\"data row0 col7\" >354.00</td>\n",
              "      <td id=\"T_b9543_row0_col8\" class=\"data row0 col8\" >354.00</td>\n",
              "      <td id=\"T_b9543_row0_col9\" class=\"data row0 col9\" >354.00</td>\n",
              "      <td id=\"T_b9543_row0_col10\" class=\"data row0 col10\" >354.00</td>\n",
              "      <td id=\"T_b9543_row0_col11\" class=\"data row0 col11\" >354.00</td>\n",
              "      <td id=\"T_b9543_row0_col12\" class=\"data row0 col12\" >354.00</td>\n",
              "    </tr>\n",
              "    <tr>\n",
              "      <th id=\"T_b9543_level0_row1\" class=\"row_heading level0 row1\" >mean</th>\n",
              "      <td id=\"T_b9543_row1_col0\" class=\"data row1 col0\" >-0.00</td>\n",
              "      <td id=\"T_b9543_row1_col1\" class=\"data row1 col1\" >-0.00</td>\n",
              "      <td id=\"T_b9543_row1_col2\" class=\"data row1 col2\" >-0.00</td>\n",
              "      <td id=\"T_b9543_row1_col3\" class=\"data row1 col3\" >-0.00</td>\n",
              "      <td id=\"T_b9543_row1_col4\" class=\"data row1 col4\" >0.00</td>\n",
              "      <td id=\"T_b9543_row1_col5\" class=\"data row1 col5\" >-0.00</td>\n",
              "      <td id=\"T_b9543_row1_col6\" class=\"data row1 col6\" >-0.00</td>\n",
              "      <td id=\"T_b9543_row1_col7\" class=\"data row1 col7\" >0.00</td>\n",
              "      <td id=\"T_b9543_row1_col8\" class=\"data row1 col8\" >0.00</td>\n",
              "      <td id=\"T_b9543_row1_col9\" class=\"data row1 col9\" >0.00</td>\n",
              "      <td id=\"T_b9543_row1_col10\" class=\"data row1 col10\" >0.00</td>\n",
              "      <td id=\"T_b9543_row1_col11\" class=\"data row1 col11\" >-0.00</td>\n",
              "      <td id=\"T_b9543_row1_col12\" class=\"data row1 col12\" >-0.00</td>\n",
              "    </tr>\n",
              "    <tr>\n",
              "      <th id=\"T_b9543_level0_row2\" class=\"row_heading level0 row2\" >std</th>\n",
              "      <td id=\"T_b9543_row2_col0\" class=\"data row2 col0\" >1.00</td>\n",
              "      <td id=\"T_b9543_row2_col1\" class=\"data row2 col1\" >1.00</td>\n",
              "      <td id=\"T_b9543_row2_col2\" class=\"data row2 col2\" >1.00</td>\n",
              "      <td id=\"T_b9543_row2_col3\" class=\"data row2 col3\" >1.00</td>\n",
              "      <td id=\"T_b9543_row2_col4\" class=\"data row2 col4\" >1.00</td>\n",
              "      <td id=\"T_b9543_row2_col5\" class=\"data row2 col5\" >1.00</td>\n",
              "      <td id=\"T_b9543_row2_col6\" class=\"data row2 col6\" >1.00</td>\n",
              "      <td id=\"T_b9543_row2_col7\" class=\"data row2 col7\" >1.00</td>\n",
              "      <td id=\"T_b9543_row2_col8\" class=\"data row2 col8\" >1.00</td>\n",
              "      <td id=\"T_b9543_row2_col9\" class=\"data row2 col9\" >1.00</td>\n",
              "      <td id=\"T_b9543_row2_col10\" class=\"data row2 col10\" >1.00</td>\n",
              "      <td id=\"T_b9543_row2_col11\" class=\"data row2 col11\" >1.00</td>\n",
              "      <td id=\"T_b9543_row2_col12\" class=\"data row2 col12\" >1.00</td>\n",
              "    </tr>\n",
              "    <tr>\n",
              "      <th id=\"T_b9543_level0_row3\" class=\"row_heading level0 row3\" >min</th>\n",
              "      <td id=\"T_b9543_row3_col0\" class=\"data row3 col0\" >-0.41</td>\n",
              "      <td id=\"T_b9543_row3_col1\" class=\"data row3 col1\" >-0.50</td>\n",
              "      <td id=\"T_b9543_row3_col2\" class=\"data row3 col2\" >-1.52</td>\n",
              "      <td id=\"T_b9543_row3_col3\" class=\"data row3 col3\" >-0.28</td>\n",
              "      <td id=\"T_b9543_row3_col4\" class=\"data row3 col4\" >-1.45</td>\n",
              "      <td id=\"T_b9543_row3_col5\" class=\"data row3 col5\" >-3.93</td>\n",
              "      <td id=\"T_b9543_row3_col6\" class=\"data row3 col6\" >-2.34</td>\n",
              "      <td id=\"T_b9543_row3_col7\" class=\"data row3 col7\" >-1.27</td>\n",
              "      <td id=\"T_b9543_row3_col8\" class=\"data row3 col8\" >-0.99</td>\n",
              "      <td id=\"T_b9543_row3_col9\" class=\"data row3 col9\" >-1.30</td>\n",
              "      <td id=\"T_b9543_row3_col10\" class=\"data row3 col10\" >-2.89</td>\n",
              "      <td id=\"T_b9543_row3_col11\" class=\"data row3 col11\" >-3.83</td>\n",
              "      <td id=\"T_b9543_row3_col12\" class=\"data row3 col12\" >-1.53</td>\n",
              "    </tr>\n",
              "    <tr>\n",
              "      <th id=\"T_b9543_level0_row4\" class=\"row_heading level0 row4\" >25%</th>\n",
              "      <td id=\"T_b9543_row4_col0\" class=\"data row4 col0\" >-0.40</td>\n",
              "      <td id=\"T_b9543_row4_col1\" class=\"data row4 col1\" >-0.50</td>\n",
              "      <td id=\"T_b9543_row4_col2\" class=\"data row4 col2\" >-0.87</td>\n",
              "      <td id=\"T_b9543_row4_col3\" class=\"data row4 col3\" >-0.28</td>\n",
              "      <td id=\"T_b9543_row4_col4\" class=\"data row4 col4\" >-0.90</td>\n",
              "      <td id=\"T_b9543_row4_col5\" class=\"data row4 col5\" >-0.53</td>\n",
              "      <td id=\"T_b9543_row4_col6\" class=\"data row4 col6\" >-0.77</td>\n",
              "      <td id=\"T_b9543_row4_col7\" class=\"data row4 col7\" >-0.81</td>\n",
              "      <td id=\"T_b9543_row4_col8\" class=\"data row4 col8\" >-0.65</td>\n",
              "      <td id=\"T_b9543_row4_col9\" class=\"data row4 col9\" >-0.77</td>\n",
              "      <td id=\"T_b9543_row4_col10\" class=\"data row4 col10\" >-0.55</td>\n",
              "      <td id=\"T_b9543_row4_col11\" class=\"data row4 col11\" >0.22</td>\n",
              "      <td id=\"T_b9543_row4_col12\" class=\"data row4 col12\" >-0.79</td>\n",
              "    </tr>\n",
              "    <tr>\n",
              "      <th id=\"T_b9543_level0_row5\" class=\"row_heading level0 row5\" >50%</th>\n",
              "      <td id=\"T_b9543_row5_col0\" class=\"data row5 col0\" >-0.39</td>\n",
              "      <td id=\"T_b9543_row5_col1\" class=\"data row5 col1\" >-0.50</td>\n",
              "      <td id=\"T_b9543_row5_col2\" class=\"data row5 col2\" >-0.20</td>\n",
              "      <td id=\"T_b9543_row5_col3\" class=\"data row5 col3\" >-0.28</td>\n",
              "      <td id=\"T_b9543_row5_col4\" class=\"data row5 col4\" >-0.17</td>\n",
              "      <td id=\"T_b9543_row5_col5\" class=\"data row5 col5\" >-0.10</td>\n",
              "      <td id=\"T_b9543_row5_col6\" class=\"data row5 col6\" >0.30</td>\n",
              "      <td id=\"T_b9543_row5_col7\" class=\"data row5 col7\" >-0.28</td>\n",
              "      <td id=\"T_b9543_row5_col8\" class=\"data row5 col8\" >-0.54</td>\n",
              "      <td id=\"T_b9543_row5_col9\" class=\"data row5 col9\" >-0.46</td>\n",
              "      <td id=\"T_b9543_row5_col10\" class=\"data row5 col10\" >0.27</td>\n",
              "      <td id=\"T_b9543_row5_col11\" class=\"data row5 col11\" >0.39</td>\n",
              "      <td id=\"T_b9543_row5_col12\" class=\"data row5 col12\" >-0.27</td>\n",
              "    </tr>\n",
              "    <tr>\n",
              "      <th id=\"T_b9543_level0_row6\" class=\"row_heading level0 row6\" >75%</th>\n",
              "      <td id=\"T_b9543_row6_col0\" class=\"data row6 col0\" >0.00</td>\n",
              "      <td id=\"T_b9543_row6_col1\" class=\"data row6 col1\" >0.34</td>\n",
              "      <td id=\"T_b9543_row6_col2\" class=\"data row6 col2\" >1.04</td>\n",
              "      <td id=\"T_b9543_row6_col3\" class=\"data row6 col3\" >-0.28</td>\n",
              "      <td id=\"T_b9543_row6_col4\" class=\"data row6 col4\" >0.64</td>\n",
              "      <td id=\"T_b9543_row6_col5\" class=\"data row6 col5\" >0.49</td>\n",
              "      <td id=\"T_b9543_row6_col6\" class=\"data row6 col6\" >0.90</td>\n",
              "      <td id=\"T_b9543_row6_col7\" class=\"data row6 col7\" >0.67</td>\n",
              "      <td id=\"T_b9543_row6_col8\" class=\"data row6 col8\" >1.60</td>\n",
              "      <td id=\"T_b9543_row6_col9\" class=\"data row6 col9\" >1.52</td>\n",
              "      <td id=\"T_b9543_row6_col10\" class=\"data row6 col10\" >0.81</td>\n",
              "      <td id=\"T_b9543_row6_col11\" class=\"data row6 col11\" >0.44</td>\n",
              "      <td id=\"T_b9543_row6_col12\" class=\"data row6 col12\" >0.63</td>\n",
              "    </tr>\n",
              "    <tr>\n",
              "      <th id=\"T_b9543_level0_row7\" class=\"row_heading level0 row7\" >max</th>\n",
              "      <td id=\"T_b9543_row7_col0\" class=\"data row7 col0\" >8.75</td>\n",
              "      <td id=\"T_b9543_row7_col1\" class=\"data row7 col1\" >3.73</td>\n",
              "      <td id=\"T_b9543_row7_col2\" class=\"data row7 col2\" >2.46</td>\n",
              "      <td id=\"T_b9543_row7_col3\" class=\"data row7 col3\" >3.62</td>\n",
              "      <td id=\"T_b9543_row7_col4\" class=\"data row7 col4\" >2.79</td>\n",
              "      <td id=\"T_b9543_row7_col5\" class=\"data row7 col5\" >3.52</td>\n",
              "      <td id=\"T_b9543_row7_col6\" class=\"data row7 col6\" >1.13</td>\n",
              "      <td id=\"T_b9543_row7_col7\" class=\"data row7 col7\" >3.85</td>\n",
              "      <td id=\"T_b9543_row7_col8\" class=\"data row7 col8\" >1.60</td>\n",
              "      <td id=\"T_b9543_row7_col9\" class=\"data row7 col9\" >1.78</td>\n",
              "      <td id=\"T_b9543_row7_col10\" class=\"data row7 col10\" >1.29</td>\n",
              "      <td id=\"T_b9543_row7_col11\" class=\"data row7 col11\" >0.44</td>\n",
              "      <td id=\"T_b9543_row7_col12\" class=\"data row7 col12\" >3.61</td>\n",
              "    </tr>\n",
              "  </tbody>\n",
              "</table>\n"
            ]
          },
          "metadata": {}
        },
        {
          "output_type": "display_data",
          "data": {
            "text/plain": [
              "<pandas.io.formats.style.Styler at 0x7aeedf2f7ca0>"
            ],
            "text/html": [
              "<style type=\"text/css\">\n",
              "</style>\n",
              "<table id=\"T_e771e\" class=\"dataframe\">\n",
              "  <caption>Few lines of the dataset :</caption>\n",
              "  <thead>\n",
              "    <tr>\n",
              "      <th class=\"blank level0\" >&nbsp;</th>\n",
              "      <th id=\"T_e771e_level0_col0\" class=\"col_heading level0 col0\" >crim</th>\n",
              "      <th id=\"T_e771e_level0_col1\" class=\"col_heading level0 col1\" >zn</th>\n",
              "      <th id=\"T_e771e_level0_col2\" class=\"col_heading level0 col2\" >indus</th>\n",
              "      <th id=\"T_e771e_level0_col3\" class=\"col_heading level0 col3\" >chas</th>\n",
              "      <th id=\"T_e771e_level0_col4\" class=\"col_heading level0 col4\" >nox</th>\n",
              "      <th id=\"T_e771e_level0_col5\" class=\"col_heading level0 col5\" >rm</th>\n",
              "      <th id=\"T_e771e_level0_col6\" class=\"col_heading level0 col6\" >age</th>\n",
              "      <th id=\"T_e771e_level0_col7\" class=\"col_heading level0 col7\" >dis</th>\n",
              "      <th id=\"T_e771e_level0_col8\" class=\"col_heading level0 col8\" >rad</th>\n",
              "      <th id=\"T_e771e_level0_col9\" class=\"col_heading level0 col9\" >tax</th>\n",
              "      <th id=\"T_e771e_level0_col10\" class=\"col_heading level0 col10\" >ptratio</th>\n",
              "      <th id=\"T_e771e_level0_col11\" class=\"col_heading level0 col11\" >b</th>\n",
              "      <th id=\"T_e771e_level0_col12\" class=\"col_heading level0 col12\" >lstat</th>\n",
              "    </tr>\n",
              "  </thead>\n",
              "  <tbody>\n",
              "    <tr>\n",
              "      <th id=\"T_e771e_level0_row0\" class=\"row_heading level0 row0\" >498</th>\n",
              "      <td id=\"T_e771e_row0_col0\" class=\"data row0 col0\" >-0.38</td>\n",
              "      <td id=\"T_e771e_row0_col1\" class=\"data row0 col1\" >-0.50</td>\n",
              "      <td id=\"T_e771e_row0_col2\" class=\"data row0 col2\" >-0.20</td>\n",
              "      <td id=\"T_e771e_row0_col3\" class=\"data row0 col3\" >-0.28</td>\n",
              "      <td id=\"T_e771e_row0_col4\" class=\"data row0 col4\" >0.30</td>\n",
              "      <td id=\"T_e771e_row0_col5\" class=\"data row0 col5\" >-0.38</td>\n",
              "      <td id=\"T_e771e_row0_col6\" class=\"data row0 col6\" >-0.11</td>\n",
              "      <td id=\"T_e771e_row0_col7\" class=\"data row0 col7\" >-0.67</td>\n",
              "      <td id=\"T_e771e_row0_col8\" class=\"data row0 col8\" >-0.43</td>\n",
              "      <td id=\"T_e771e_row0_col9\" class=\"data row0 col9\" >-0.10</td>\n",
              "      <td id=\"T_e771e_row0_col10\" class=\"data row0 col10\" >0.32</td>\n",
              "      <td id=\"T_e771e_row0_col11\" class=\"data row0 col11\" >0.44</td>\n",
              "      <td id=\"T_e771e_row0_col12\" class=\"data row0 col12\" >0.06</td>\n",
              "    </tr>\n",
              "    <tr>\n",
              "      <th id=\"T_e771e_level0_row1\" class=\"row_heading level0 row1\" >34</th>\n",
              "      <td id=\"T_e771e_row1_col0\" class=\"data row1 col0\" >-0.24</td>\n",
              "      <td id=\"T_e771e_row1_col1\" class=\"data row1 col1\" >-0.50</td>\n",
              "      <td id=\"T_e771e_row1_col2\" class=\"data row1 col2\" >-0.43</td>\n",
              "      <td id=\"T_e771e_row1_col3\" class=\"data row1 col3\" >-0.28</td>\n",
              "      <td id=\"T_e771e_row1_col4\" class=\"data row1 col4\" >-0.11</td>\n",
              "      <td id=\"T_e771e_row1_col5\" class=\"data row1 col5\" >-0.27</td>\n",
              "      <td id=\"T_e771e_row1_col6\" class=\"data row1 col6\" >1.02</td>\n",
              "      <td id=\"T_e771e_row1_col7\" class=\"data row1 col7\" >-0.04</td>\n",
              "      <td id=\"T_e771e_row1_col8\" class=\"data row1 col8\" >-0.65</td>\n",
              "      <td id=\"T_e771e_row1_col9\" class=\"data row1 col9\" >-0.59</td>\n",
              "      <td id=\"T_e771e_row1_col10\" class=\"data row1 col10\" >1.19</td>\n",
              "      <td id=\"T_e771e_row1_col11\" class=\"data row1 col11\" >-1.16</td>\n",
              "      <td id=\"T_e771e_row1_col12\" class=\"data row1 col12\" >1.11</td>\n",
              "    </tr>\n",
              "    <tr>\n",
              "      <th id=\"T_e771e_level0_row2\" class=\"row_heading level0 row2\" >345</th>\n",
              "      <td id=\"T_e771e_row2_col0\" class=\"data row2 col0\" >-0.41</td>\n",
              "      <td id=\"T_e771e_row2_col1\" class=\"data row2 col1\" >-0.50</td>\n",
              "      <td id=\"T_e771e_row2_col2\" class=\"data row2 col2\" >-0.98</td>\n",
              "      <td id=\"T_e771e_row2_col3\" class=\"data row2 col3\" >-0.28</td>\n",
              "      <td id=\"T_e771e_row2_col4\" class=\"data row2 col4\" >-0.95</td>\n",
              "      <td id=\"T_e771e_row2_col5\" class=\"data row2 col5\" >-0.39</td>\n",
              "      <td id=\"T_e771e_row2_col6\" class=\"data row2 col6\" >-0.71</td>\n",
              "      <td id=\"T_e771e_row2_col7\" class=\"data row2 col7\" >1.93</td>\n",
              "      <td id=\"T_e771e_row2_col8\" class=\"data row2 col8\" >-0.76</td>\n",
              "      <td id=\"T_e771e_row2_col9\" class=\"data row2 col9\" >-0.33</td>\n",
              "      <td id=\"T_e771e_row2_col10\" class=\"data row2 col10\" >0.13</td>\n",
              "      <td id=\"T_e771e_row2_col11\" class=\"data row2 col11\" >0.32</td>\n",
              "      <td id=\"T_e771e_row2_col12\" class=\"data row2 col12\" >-0.28</td>\n",
              "    </tr>\n",
              "    <tr>\n",
              "      <th id=\"T_e771e_level0_row3\" class=\"row_heading level0 row3\" >337</th>\n",
              "      <td id=\"T_e771e_row3_col0\" class=\"data row3 col0\" >-0.41</td>\n",
              "      <td id=\"T_e771e_row3_col1\" class=\"data row3 col1\" >-0.50</td>\n",
              "      <td id=\"T_e771e_row3_col2\" class=\"data row3 col2\" >-0.87</td>\n",
              "      <td id=\"T_e771e_row3_col3\" class=\"data row3 col3\" >-0.28</td>\n",
              "      <td id=\"T_e771e_row3_col4\" class=\"data row3 col4\" >-0.31</td>\n",
              "      <td id=\"T_e771e_row3_col5\" class=\"data row3 col5\" >-0.56</td>\n",
              "      <td id=\"T_e771e_row3_col6\" class=\"data row3 col6\" >-0.31</td>\n",
              "      <td id=\"T_e771e_row3_col7\" class=\"data row3 col7\" >0.82</td>\n",
              "      <td id=\"T_e771e_row3_col8\" class=\"data row3 col8\" >-0.54</td>\n",
              "      <td id=\"T_e771e_row3_col9\" class=\"data row3 col9\" >-1.08</td>\n",
              "      <td id=\"T_e771e_row3_col10\" class=\"data row3 col10\" >0.81</td>\n",
              "      <td id=\"T_e771e_row3_col11\" class=\"data row3 col11\" >0.42</td>\n",
              "      <td id=\"T_e771e_row3_col12\" class=\"data row3 col12\" >-0.27</td>\n",
              "    </tr>\n",
              "    <tr>\n",
              "      <th id=\"T_e771e_level0_row4\" class=\"row_heading level0 row4\" >25</th>\n",
              "      <td id=\"T_e771e_row4_col0\" class=\"data row4 col0\" >-0.32</td>\n",
              "      <td id=\"T_e771e_row4_col1\" class=\"data row4 col1\" >-0.50</td>\n",
              "      <td id=\"T_e771e_row4_col2\" class=\"data row4 col2\" >-0.43</td>\n",
              "      <td id=\"T_e771e_row4_col3\" class=\"data row4 col3\" >-0.28</td>\n",
              "      <td id=\"T_e771e_row4_col4\" class=\"data row4 col4\" >-0.11</td>\n",
              "      <td id=\"T_e771e_row4_col5\" class=\"data row4 col5\" >-0.99</td>\n",
              "      <td id=\"T_e771e_row4_col6\" class=\"data row4 col6\" >0.62</td>\n",
              "      <td id=\"T_e771e_row4_col7\" class=\"data row4 col7\" >0.28</td>\n",
              "      <td id=\"T_e771e_row4_col8\" class=\"data row4 col8\" >-0.65</td>\n",
              "      <td id=\"T_e771e_row4_col9\" class=\"data row4 col9\" >-0.59</td>\n",
              "      <td id=\"T_e771e_row4_col10\" class=\"data row4 col10\" >1.19</td>\n",
              "      <td id=\"T_e771e_row4_col11\" class=\"data row4 col11\" >-0.56</td>\n",
              "      <td id=\"T_e771e_row4_col12\" class=\"data row4 col12\" >0.57</td>\n",
              "    </tr>\n",
              "  </tbody>\n",
              "</table>\n"
            ]
          },
          "metadata": {}
        }
      ]
    },
    {
      "cell_type": "markdown",
      "source": [
        "## Exo4:  Model Design"
      ],
      "metadata": {
        "id": "tk5PT-GONvp0"
      }
    },
    {
      "cell_type": "markdown",
      "source": [
        "Design a neural network architecture with two hidden layers, each consisting of 64 units and utilizing the ReLU activation function. To obtain a linear output layer, include a final layer with a single unit and no activation function. Compile the network using the mean squared error (MSE) loss function. Additionally, monitor a new metric, mean absolute error (MAE), during training. Finally, define the optimizer as 'rmsprop' in the model compilation.\n",
        "\n",
        "Define the model within a function named build_model(shape)\n",
        "\n",
        "\n",
        "More informations about :\n",
        "\n",
        "\n",
        "* [Optimizer](https://www.tensorflow.org/api_docs/python/tf/keras/optimizers)\n",
        "* [Activation](https://www.tensorflow.org/api_docs/python/tf/keras/activations)\n",
        "* [Loss](https://www.tensorflow.org/api_docs/python/tf/keras/losses)\n",
        "* [Metrics](https://www.tensorflow.org/api_docs/python/tf/keras/metrics)\n",
        "\n",
        "\n"
      ],
      "metadata": {
        "id": "J_kotgwULVcH"
      }
    },
    {
      "cell_type": "code",
      "source": [
        "from keras import models\n",
        "from keras import layers\n",
        "def build_model (shape):\n",
        "\n",
        "  model = keras.models.Sequential()\n",
        "  model.add(keras.layers.Input(shape, name=\"InputLayer\"))\n",
        "  model.add(keras.layers.Dense(64, activation='relu', name='Dense_n1'))\n",
        "  model.add(keras.layers.Dense(64, activation='relu', name='Dense_n2'))\n",
        "  model.add(keras.layers.Dense(1, name='Output'))\n",
        "\n",
        "  model.compile(optimizer = 'rmsprop',\n",
        "                loss      = 'mse',\n",
        "                metrics   = ['mae'] )\n",
        "  return model\n",
        "# complete the model here\n"
      ],
      "metadata": {
        "id": "wA391yVKNX3n"
      },
      "execution_count": null,
      "outputs": []
    },
    {
      "cell_type": "code",
      "source": [
        "13*64+64"
      ],
      "metadata": {
        "colab": {
          "base_uri": "https://localhost:8080/"
        },
        "id": "_bFEnC1ZOV6S",
        "outputId": "c34257dc-30f2-4209-e851-a0b13ef25e50"
      },
      "execution_count": null,
      "outputs": [
        {
          "output_type": "execute_result",
          "data": {
            "text/plain": [
              "896"
            ]
          },
          "metadata": {},
          "execution_count": 9
        }
      ]
    },
    {
      "cell_type": "markdown",
      "source": [
        "## Exe 5 : Model Building\n",
        "\n",
        " Use the build_model function to create a model with a shape equal to the number of features. Display its summary."
      ],
      "metadata": {
        "id": "4iv88RDcQP7s"
      }
    },
    {
      "cell_type": "code",
      "source": [
        "\n",
        "\n",
        "model=build_model( (13,) )\n",
        "\n",
        "model.summary()"
      ],
      "metadata": {
        "colab": {
          "base_uri": "https://localhost:8080/"
        },
        "id": "Djh2Efl8aDDH",
        "outputId": "8e792a75-2110-4115-a7c4-33e603f8175a"
      },
      "execution_count": null,
      "outputs": [
        {
          "output_type": "stream",
          "name": "stdout",
          "text": [
            "Model: \"sequential\"\n",
            "_________________________________________________________________\n",
            " Layer (type)                Output Shape              Param #   \n",
            "=================================================================\n",
            " Dense_n1 (Dense)            (None, 64)                896       \n",
            "                                                                 \n",
            " Dense_n2 (Dense)            (None, 64)                4160      \n",
            "                                                                 \n",
            " Output (Dense)              (None, 1)                 65        \n",
            "                                                                 \n",
            "=================================================================\n",
            "Total params: 5121 (20.00 KB)\n",
            "Trainable params: 5121 (20.00 KB)\n",
            "Non-trainable params: 0 (0.00 Byte)\n",
            "_________________________________________________________________\n"
          ]
        }
      ]
    },
    {
      "cell_type": "markdown",
      "source": [
        "\n",
        "\n",
        "## Exe 6 : Model Fitting\n",
        "\n",
        "Fit the model on the train set with the test set as the\n",
        "validation set, 60 epochs and save it in history.\n",
        "\n"
      ],
      "metadata": {
        "id": "x6Px4Da0b1mx"
      }
    },
    {
      "cell_type": "code",
      "source": [
        "history = model.fit(x_train,\n",
        "                    y_train,\n",
        "                    epochs          = 200,\n",
        "                    validation_data = (x_test, y_test))"
      ],
      "metadata": {
        "colab": {
          "base_uri": "https://localhost:8080/"
        },
        "id": "_HcO_9Y5b2jP",
        "outputId": "72844298-72b1-458d-a989-185c38d69c39"
      },
      "execution_count": null,
      "outputs": [
        {
          "output_type": "stream",
          "name": "stdout",
          "text": [
            "Epoch 1/200\n",
            "12/12 [==============================] - 1s 23ms/step - loss: 561.9897 - mae: 21.8879 - val_loss: 515.6635 - val_mae: 20.5426\n",
            "Epoch 2/200\n",
            "12/12 [==============================] - 0s 6ms/step - loss: 486.4501 - mae: 20.1463 - val_loss: 438.2998 - val_mae: 18.6980\n",
            "Epoch 3/200\n",
            "12/12 [==============================] - 0s 6ms/step - loss: 407.3083 - mae: 18.2022 - val_loss: 359.2747 - val_mae: 16.6133\n",
            "Epoch 4/200\n",
            "12/12 [==============================] - 0s 7ms/step - loss: 325.3912 - mae: 16.0074 - val_loss: 272.0982 - val_mae: 14.1700\n",
            "Epoch 5/200\n",
            "12/12 [==============================] - 0s 7ms/step - loss: 237.5989 - mae: 13.3949 - val_loss: 190.2984 - val_mae: 11.6295\n",
            "Epoch 6/200\n",
            "12/12 [==============================] - 0s 6ms/step - loss: 161.5527 - mae: 10.6523 - val_loss: 119.5998 - val_mae: 8.9693\n",
            "Epoch 7/200\n",
            "12/12 [==============================] - 0s 6ms/step - loss: 101.6458 - mae: 7.9876 - val_loss: 72.0482 - val_mae: 6.7898\n",
            "Epoch 8/200\n",
            "12/12 [==============================] - 0s 6ms/step - loss: 64.6967 - mae: 6.0806 - val_loss: 47.5311 - val_mae: 5.3785\n",
            "Epoch 9/200\n",
            "12/12 [==============================] - 0s 6ms/step - loss: 47.0712 - mae: 4.9678 - val_loss: 35.4464 - val_mae: 4.5281\n",
            "Epoch 10/200\n",
            "12/12 [==============================] - 0s 6ms/step - loss: 37.1387 - mae: 4.3339 - val_loss: 31.4344 - val_mae: 4.3035\n",
            "Epoch 11/200\n",
            "12/12 [==============================] - 0s 6ms/step - loss: 31.1923 - mae: 4.0285 - val_loss: 24.5346 - val_mae: 3.7205\n",
            "Epoch 12/200\n",
            "12/12 [==============================] - 0s 6ms/step - loss: 26.5841 - mae: 3.7105 - val_loss: 22.8579 - val_mae: 3.6099\n",
            "Epoch 13/200\n",
            "12/12 [==============================] - 0s 11ms/step - loss: 24.3523 - mae: 3.5238 - val_loss: 21.2016 - val_mae: 3.5099\n",
            "Epoch 14/200\n",
            "12/12 [==============================] - 0s 7ms/step - loss: 22.3413 - mae: 3.4071 - val_loss: 20.5750 - val_mae: 3.5007\n",
            "Epoch 15/200\n",
            "12/12 [==============================] - 0s 7ms/step - loss: 20.9938 - mae: 3.2895 - val_loss: 17.8018 - val_mae: 3.1866\n",
            "Epoch 16/200\n",
            "12/12 [==============================] - 0s 6ms/step - loss: 19.6513 - mae: 3.1817 - val_loss: 17.2701 - val_mae: 3.1759\n",
            "Epoch 17/200\n",
            "12/12 [==============================] - 0s 6ms/step - loss: 18.8696 - mae: 3.0827 - val_loss: 16.7922 - val_mae: 3.0642\n",
            "Epoch 18/200\n",
            "12/12 [==============================] - 0s 6ms/step - loss: 17.9614 - mae: 2.9848 - val_loss: 17.4275 - val_mae: 3.1309\n",
            "Epoch 19/200\n",
            "12/12 [==============================] - 0s 6ms/step - loss: 17.2887 - mae: 2.9671 - val_loss: 15.7432 - val_mae: 2.9672\n",
            "Epoch 20/200\n",
            "12/12 [==============================] - 0s 7ms/step - loss: 16.3176 - mae: 2.8438 - val_loss: 15.6387 - val_mae: 2.9528\n",
            "Epoch 21/200\n",
            "12/12 [==============================] - 0s 5ms/step - loss: 15.8136 - mae: 2.8730 - val_loss: 15.2833 - val_mae: 2.9440\n",
            "Epoch 22/200\n",
            "12/12 [==============================] - 0s 5ms/step - loss: 15.2142 - mae: 2.7674 - val_loss: 15.6284 - val_mae: 2.9532\n",
            "Epoch 23/200\n",
            "12/12 [==============================] - 0s 6ms/step - loss: 14.7920 - mae: 2.7372 - val_loss: 16.9675 - val_mae: 3.1416\n",
            "Epoch 24/200\n",
            "12/12 [==============================] - 0s 7ms/step - loss: 14.1989 - mae: 2.7661 - val_loss: 13.5491 - val_mae: 2.6521\n",
            "Epoch 25/200\n",
            "12/12 [==============================] - 0s 7ms/step - loss: 14.0771 - mae: 2.6550 - val_loss: 14.3558 - val_mae: 2.7768\n",
            "Epoch 26/200\n",
            "12/12 [==============================] - 0s 6ms/step - loss: 13.6541 - mae: 2.6254 - val_loss: 14.7196 - val_mae: 2.8063\n",
            "Epoch 27/200\n",
            "12/12 [==============================] - 0s 6ms/step - loss: 13.3962 - mae: 2.6066 - val_loss: 15.8365 - val_mae: 2.9641\n",
            "Epoch 28/200\n",
            "12/12 [==============================] - 0s 7ms/step - loss: 13.2431 - mae: 2.5809 - val_loss: 15.8071 - val_mae: 2.9110\n",
            "Epoch 29/200\n",
            "12/12 [==============================] - 0s 6ms/step - loss: 12.9055 - mae: 2.5879 - val_loss: 16.9276 - val_mae: 3.0726\n",
            "Epoch 30/200\n",
            "12/12 [==============================] - 0s 8ms/step - loss: 13.0192 - mae: 2.5721 - val_loss: 17.6705 - val_mae: 3.0608\n",
            "Epoch 31/200\n",
            "12/12 [==============================] - 0s 7ms/step - loss: 12.7327 - mae: 2.6391 - val_loss: 15.2089 - val_mae: 2.8076\n",
            "Epoch 32/200\n",
            "12/12 [==============================] - 0s 7ms/step - loss: 12.1972 - mae: 2.5204 - val_loss: 14.7167 - val_mae: 2.7432\n",
            "Epoch 33/200\n",
            "12/12 [==============================] - 0s 5ms/step - loss: 12.0619 - mae: 2.4695 - val_loss: 14.3976 - val_mae: 2.7045\n",
            "Epoch 34/200\n",
            "12/12 [==============================] - 0s 5ms/step - loss: 11.8636 - mae: 2.4384 - val_loss: 17.1229 - val_mae: 2.9824\n",
            "Epoch 35/200\n",
            "12/12 [==============================] - 0s 6ms/step - loss: 11.9901 - mae: 2.5137 - val_loss: 15.3739 - val_mae: 2.7859\n",
            "Epoch 36/200\n",
            "12/12 [==============================] - 0s 7ms/step - loss: 11.6238 - mae: 2.4671 - val_loss: 13.9769 - val_mae: 2.6005\n",
            "Epoch 37/200\n",
            "12/12 [==============================] - 0s 6ms/step - loss: 11.5459 - mae: 2.4155 - val_loss: 13.1852 - val_mae: 2.5306\n",
            "Epoch 38/200\n",
            "12/12 [==============================] - 0s 7ms/step - loss: 11.3286 - mae: 2.3730 - val_loss: 13.7791 - val_mae: 2.5647\n",
            "Epoch 39/200\n",
            "12/12 [==============================] - 0s 6ms/step - loss: 11.2805 - mae: 2.3897 - val_loss: 13.2977 - val_mae: 2.5027\n",
            "Epoch 40/200\n",
            "12/12 [==============================] - 0s 7ms/step - loss: 11.0027 - mae: 2.3397 - val_loss: 13.8991 - val_mae: 2.5903\n",
            "Epoch 41/200\n",
            "12/12 [==============================] - 0s 8ms/step - loss: 10.7544 - mae: 2.3276 - val_loss: 16.4377 - val_mae: 2.9071\n",
            "Epoch 42/200\n",
            "12/12 [==============================] - 0s 6ms/step - loss: 11.0647 - mae: 2.4037 - val_loss: 13.7551 - val_mae: 2.5700\n",
            "Epoch 43/200\n",
            "12/12 [==============================] - 0s 8ms/step - loss: 10.6578 - mae: 2.2927 - val_loss: 14.2581 - val_mae: 2.6088\n",
            "Epoch 44/200\n",
            "12/12 [==============================] - 0s 6ms/step - loss: 10.6779 - mae: 2.3130 - val_loss: 14.5492 - val_mae: 2.5982\n",
            "Epoch 45/200\n",
            "12/12 [==============================] - 0s 6ms/step - loss: 10.3170 - mae: 2.2877 - val_loss: 13.5944 - val_mae: 2.6171\n",
            "Epoch 46/200\n",
            "12/12 [==============================] - 0s 7ms/step - loss: 10.4480 - mae: 2.2917 - val_loss: 13.9474 - val_mae: 2.6691\n",
            "Epoch 47/200\n",
            "12/12 [==============================] - 0s 6ms/step - loss: 10.5957 - mae: 2.2904 - val_loss: 13.3339 - val_mae: 2.5248\n",
            "Epoch 48/200\n",
            "12/12 [==============================] - 0s 6ms/step - loss: 10.1525 - mae: 2.2593 - val_loss: 15.4052 - val_mae: 2.7349\n",
            "Epoch 49/200\n",
            "12/12 [==============================] - 0s 6ms/step - loss: 10.1713 - mae: 2.2812 - val_loss: 12.7440 - val_mae: 2.4746\n",
            "Epoch 50/200\n",
            "12/12 [==============================] - 0s 7ms/step - loss: 10.2065 - mae: 2.2513 - val_loss: 13.2188 - val_mae: 2.4513\n",
            "Epoch 51/200\n",
            "12/12 [==============================] - 0s 6ms/step - loss: 9.9618 - mae: 2.2545 - val_loss: 13.8050 - val_mae: 2.4964\n",
            "Epoch 52/200\n",
            "12/12 [==============================] - 0s 6ms/step - loss: 9.9460 - mae: 2.2203 - val_loss: 13.3106 - val_mae: 2.4166\n",
            "Epoch 53/200\n",
            "12/12 [==============================] - 0s 5ms/step - loss: 9.6901 - mae: 2.1930 - val_loss: 12.9741 - val_mae: 2.3945\n",
            "Epoch 54/200\n",
            "12/12 [==============================] - 0s 6ms/step - loss: 9.7764 - mae: 2.1710 - val_loss: 13.1937 - val_mae: 2.3868\n",
            "Epoch 55/200\n",
            "12/12 [==============================] - 0s 5ms/step - loss: 9.8089 - mae: 2.2112 - val_loss: 13.7360 - val_mae: 2.4389\n",
            "Epoch 56/200\n",
            "12/12 [==============================] - 0s 6ms/step - loss: 9.4024 - mae: 2.1527 - val_loss: 15.2118 - val_mae: 2.5630\n",
            "Epoch 57/200\n",
            "12/12 [==============================] - 0s 5ms/step - loss: 9.4174 - mae: 2.1963 - val_loss: 14.0744 - val_mae: 2.4948\n",
            "Epoch 58/200\n",
            "12/12 [==============================] - 0s 5ms/step - loss: 9.4244 - mae: 2.1780 - val_loss: 12.8634 - val_mae: 2.3942\n",
            "Epoch 59/200\n",
            "12/12 [==============================] - 0s 6ms/step - loss: 9.3614 - mae: 2.1486 - val_loss: 12.4812 - val_mae: 2.3293\n",
            "Epoch 60/200\n",
            "12/12 [==============================] - 0s 5ms/step - loss: 9.0989 - mae: 2.1214 - val_loss: 13.4932 - val_mae: 2.4394\n",
            "Epoch 61/200\n",
            "12/12 [==============================] - 0s 5ms/step - loss: 9.2143 - mae: 2.1483 - val_loss: 13.0714 - val_mae: 2.4178\n",
            "Epoch 62/200\n",
            "12/12 [==============================] - 0s 6ms/step - loss: 9.1160 - mae: 2.1102 - val_loss: 12.9389 - val_mae: 2.3973\n",
            "Epoch 63/200\n",
            "12/12 [==============================] - 0s 6ms/step - loss: 9.1489 - mae: 2.1064 - val_loss: 12.2967 - val_mae: 2.3286\n",
            "Epoch 64/200\n",
            "12/12 [==============================] - 0s 7ms/step - loss: 9.0055 - mae: 2.0847 - val_loss: 13.0959 - val_mae: 2.3648\n",
            "Epoch 65/200\n",
            "12/12 [==============================] - 0s 7ms/step - loss: 8.8161 - mae: 2.0793 - val_loss: 14.0537 - val_mae: 2.5642\n",
            "Epoch 66/200\n",
            "12/12 [==============================] - 0s 7ms/step - loss: 9.0053 - mae: 2.1155 - val_loss: 13.9337 - val_mae: 2.4809\n",
            "Epoch 67/200\n",
            "12/12 [==============================] - 0s 6ms/step - loss: 8.7849 - mae: 2.0660 - val_loss: 13.4227 - val_mae: 2.4324\n",
            "Epoch 68/200\n",
            "12/12 [==============================] - 0s 7ms/step - loss: 9.0317 - mae: 2.0769 - val_loss: 13.3596 - val_mae: 2.4424\n",
            "Epoch 69/200\n",
            "12/12 [==============================] - 0s 6ms/step - loss: 8.6215 - mae: 2.0548 - val_loss: 13.0140 - val_mae: 2.3981\n",
            "Epoch 70/200\n",
            "12/12 [==============================] - 0s 5ms/step - loss: 8.7686 - mae: 2.0705 - val_loss: 13.5309 - val_mae: 2.3875\n",
            "Epoch 71/200\n",
            "12/12 [==============================] - 0s 6ms/step - loss: 8.5331 - mae: 2.0530 - val_loss: 12.3708 - val_mae: 2.3313\n",
            "Epoch 72/200\n",
            "12/12 [==============================] - 0s 5ms/step - loss: 8.6234 - mae: 2.0463 - val_loss: 12.9786 - val_mae: 2.4152\n",
            "Epoch 73/200\n",
            "12/12 [==============================] - 0s 6ms/step - loss: 8.5840 - mae: 2.0365 - val_loss: 13.7027 - val_mae: 2.3934\n",
            "Epoch 74/200\n",
            "12/12 [==============================] - 0s 5ms/step - loss: 8.4412 - mae: 2.0438 - val_loss: 12.1264 - val_mae: 2.2927\n",
            "Epoch 75/200\n",
            "12/12 [==============================] - 0s 5ms/step - loss: 8.4454 - mae: 2.0196 - val_loss: 13.5104 - val_mae: 2.4507\n",
            "Epoch 76/200\n",
            "12/12 [==============================] - 0s 6ms/step - loss: 8.4880 - mae: 2.0234 - val_loss: 13.8386 - val_mae: 2.4349\n",
            "Epoch 77/200\n",
            "12/12 [==============================] - 0s 7ms/step - loss: 8.3346 - mae: 2.0128 - val_loss: 12.7718 - val_mae: 2.3551\n",
            "Epoch 78/200\n",
            "12/12 [==============================] - 0s 7ms/step - loss: 8.0778 - mae: 2.0047 - val_loss: 12.9933 - val_mae: 2.3223\n",
            "Epoch 79/200\n",
            "12/12 [==============================] - 0s 6ms/step - loss: 8.0645 - mae: 1.9673 - val_loss: 13.4578 - val_mae: 2.4968\n",
            "Epoch 80/200\n",
            "12/12 [==============================] - 0s 6ms/step - loss: 8.3579 - mae: 2.0143 - val_loss: 13.0899 - val_mae: 2.3625\n",
            "Epoch 81/200\n",
            "12/12 [==============================] - 0s 5ms/step - loss: 8.0666 - mae: 1.9752 - val_loss: 13.0318 - val_mae: 2.3094\n",
            "Epoch 82/200\n",
            "12/12 [==============================] - 0s 5ms/step - loss: 8.0153 - mae: 1.9791 - val_loss: 13.9583 - val_mae: 2.5124\n",
            "Epoch 83/200\n",
            "12/12 [==============================] - 0s 5ms/step - loss: 8.1302 - mae: 2.0068 - val_loss: 11.5435 - val_mae: 2.1982\n",
            "Epoch 84/200\n",
            "12/12 [==============================] - 0s 5ms/step - loss: 7.9874 - mae: 1.9365 - val_loss: 12.1239 - val_mae: 2.2630\n",
            "Epoch 85/200\n",
            "12/12 [==============================] - 0s 5ms/step - loss: 7.8379 - mae: 1.9601 - val_loss: 14.5643 - val_mae: 2.6711\n",
            "Epoch 86/200\n",
            "12/12 [==============================] - 0s 5ms/step - loss: 8.0570 - mae: 2.0018 - val_loss: 12.0275 - val_mae: 2.2782\n",
            "Epoch 87/200\n",
            "12/12 [==============================] - 0s 6ms/step - loss: 7.8406 - mae: 1.9485 - val_loss: 12.7357 - val_mae: 2.3524\n",
            "Epoch 88/200\n",
            "12/12 [==============================] - 0s 5ms/step - loss: 7.7141 - mae: 1.9429 - val_loss: 11.3543 - val_mae: 2.1693\n",
            "Epoch 89/200\n",
            "12/12 [==============================] - 0s 8ms/step - loss: 7.7527 - mae: 1.9216 - val_loss: 12.4318 - val_mae: 2.2722\n",
            "Epoch 90/200\n",
            "12/12 [==============================] - 0s 9ms/step - loss: 7.7008 - mae: 1.9233 - val_loss: 12.0857 - val_mae: 2.3047\n",
            "Epoch 91/200\n",
            "12/12 [==============================] - 0s 10ms/step - loss: 7.6202 - mae: 1.9276 - val_loss: 13.9330 - val_mae: 2.4984\n",
            "Epoch 92/200\n",
            "12/12 [==============================] - 0s 11ms/step - loss: 7.7219 - mae: 1.9560 - val_loss: 14.6486 - val_mae: 2.5915\n",
            "Epoch 93/200\n",
            "12/12 [==============================] - 0s 9ms/step - loss: 7.8360 - mae: 1.9740 - val_loss: 14.5581 - val_mae: 2.5379\n",
            "Epoch 94/200\n",
            "12/12 [==============================] - 0s 9ms/step - loss: 7.7919 - mae: 1.9503 - val_loss: 13.1995 - val_mae: 2.2951\n",
            "Epoch 95/200\n",
            "12/12 [==============================] - 0s 9ms/step - loss: 7.4690 - mae: 1.9206 - val_loss: 14.1945 - val_mae: 2.5842\n",
            "Epoch 96/200\n",
            "12/12 [==============================] - 0s 9ms/step - loss: 7.8617 - mae: 2.0100 - val_loss: 13.1034 - val_mae: 2.3293\n",
            "Epoch 97/200\n",
            "12/12 [==============================] - 0s 9ms/step - loss: 7.4683 - mae: 1.9122 - val_loss: 14.4853 - val_mae: 2.4648\n",
            "Epoch 98/200\n",
            "12/12 [==============================] - 0s 9ms/step - loss: 7.3842 - mae: 1.9193 - val_loss: 15.0668 - val_mae: 2.4854\n",
            "Epoch 99/200\n",
            "12/12 [==============================] - 0s 8ms/step - loss: 7.5314 - mae: 1.9495 - val_loss: 14.1899 - val_mae: 2.4957\n",
            "Epoch 100/200\n",
            "12/12 [==============================] - 0s 8ms/step - loss: 7.5888 - mae: 1.9394 - val_loss: 12.1874 - val_mae: 2.2188\n",
            "Epoch 101/200\n",
            "12/12 [==============================] - 0s 9ms/step - loss: 7.1401 - mae: 1.8637 - val_loss: 13.7582 - val_mae: 2.4453\n",
            "Epoch 102/200\n",
            "12/12 [==============================] - 0s 7ms/step - loss: 7.2841 - mae: 1.8956 - val_loss: 12.4749 - val_mae: 2.2495\n",
            "Epoch 103/200\n",
            "12/12 [==============================] - 0s 8ms/step - loss: 7.2924 - mae: 1.8949 - val_loss: 12.2860 - val_mae: 2.2453\n",
            "Epoch 104/200\n",
            "12/12 [==============================] - 0s 7ms/step - loss: 7.2151 - mae: 1.8825 - val_loss: 11.9695 - val_mae: 2.2666\n",
            "Epoch 105/200\n",
            "12/12 [==============================] - 0s 8ms/step - loss: 7.1179 - mae: 1.8998 - val_loss: 12.7669 - val_mae: 2.2663\n",
            "Epoch 106/200\n",
            "12/12 [==============================] - 0s 8ms/step - loss: 7.1046 - mae: 1.8641 - val_loss: 12.0466 - val_mae: 2.1892\n",
            "Epoch 107/200\n",
            "12/12 [==============================] - 0s 7ms/step - loss: 7.0925 - mae: 1.8602 - val_loss: 11.4604 - val_mae: 2.1543\n",
            "Epoch 108/200\n",
            "12/12 [==============================] - 0s 6ms/step - loss: 7.0456 - mae: 1.8469 - val_loss: 13.2171 - val_mae: 2.3643\n",
            "Epoch 109/200\n",
            "12/12 [==============================] - 0s 7ms/step - loss: 6.9893 - mae: 1.8573 - val_loss: 12.5392 - val_mae: 2.3434\n",
            "Epoch 110/200\n",
            "12/12 [==============================] - 0s 8ms/step - loss: 7.0013 - mae: 1.8243 - val_loss: 12.2269 - val_mae: 2.2474\n",
            "Epoch 111/200\n",
            "12/12 [==============================] - 0s 9ms/step - loss: 6.9834 - mae: 1.8643 - val_loss: 12.7964 - val_mae: 2.3302\n",
            "Epoch 112/200\n",
            "12/12 [==============================] - 0s 11ms/step - loss: 6.9971 - mae: 1.8429 - val_loss: 13.9005 - val_mae: 2.4662\n",
            "Epoch 113/200\n",
            "12/12 [==============================] - 0s 8ms/step - loss: 6.9916 - mae: 1.8602 - val_loss: 11.8985 - val_mae: 2.2570\n",
            "Epoch 114/200\n",
            "12/12 [==============================] - 0s 9ms/step - loss: 6.7206 - mae: 1.7888 - val_loss: 12.6807 - val_mae: 2.2704\n",
            "Epoch 115/200\n",
            "12/12 [==============================] - 0s 10ms/step - loss: 6.7592 - mae: 1.8072 - val_loss: 12.4024 - val_mae: 2.2386\n",
            "Epoch 116/200\n",
            "12/12 [==============================] - 0s 9ms/step - loss: 6.7223 - mae: 1.7786 - val_loss: 13.3216 - val_mae: 2.3245\n",
            "Epoch 117/200\n",
            "12/12 [==============================] - 0s 7ms/step - loss: 6.7409 - mae: 1.8199 - val_loss: 12.6232 - val_mae: 2.2781\n",
            "Epoch 118/200\n",
            "12/12 [==============================] - 0s 8ms/step - loss: 6.6025 - mae: 1.7821 - val_loss: 12.1962 - val_mae: 2.3137\n",
            "Epoch 119/200\n",
            "12/12 [==============================] - 0s 8ms/step - loss: 6.5391 - mae: 1.7717 - val_loss: 11.9075 - val_mae: 2.2435\n",
            "Epoch 120/200\n",
            "12/12 [==============================] - 0s 8ms/step - loss: 6.5120 - mae: 1.7649 - val_loss: 12.1038 - val_mae: 2.2814\n",
            "Epoch 121/200\n",
            "12/12 [==============================] - 0s 7ms/step - loss: 6.5362 - mae: 1.7905 - val_loss: 14.0558 - val_mae: 2.4508\n",
            "Epoch 122/200\n",
            "12/12 [==============================] - 0s 8ms/step - loss: 6.3035 - mae: 1.7557 - val_loss: 11.3348 - val_mae: 2.1876\n",
            "Epoch 123/200\n",
            "12/12 [==============================] - 0s 8ms/step - loss: 6.6271 - mae: 1.7695 - val_loss: 12.3748 - val_mae: 2.2704\n",
            "Epoch 124/200\n",
            "12/12 [==============================] - 0s 7ms/step - loss: 6.4070 - mae: 1.7661 - val_loss: 11.6354 - val_mae: 2.1695\n",
            "Epoch 125/200\n",
            "12/12 [==============================] - 0s 6ms/step - loss: 6.4109 - mae: 1.7617 - val_loss: 12.5130 - val_mae: 2.2965\n",
            "Epoch 126/200\n",
            "12/12 [==============================] - 0s 7ms/step - loss: 6.2280 - mae: 1.7367 - val_loss: 12.9063 - val_mae: 2.3403\n",
            "Epoch 127/200\n",
            "12/12 [==============================] - 0s 8ms/step - loss: 6.4746 - mae: 1.7785 - val_loss: 13.9566 - val_mae: 2.4696\n",
            "Epoch 128/200\n",
            "12/12 [==============================] - 0s 8ms/step - loss: 6.2714 - mae: 1.7513 - val_loss: 12.1417 - val_mae: 2.2094\n",
            "Epoch 129/200\n",
            "12/12 [==============================] - 0s 8ms/step - loss: 6.2107 - mae: 1.7368 - val_loss: 11.9214 - val_mae: 2.2332\n",
            "Epoch 130/200\n",
            "12/12 [==============================] - 0s 7ms/step - loss: 6.3323 - mae: 1.7557 - val_loss: 12.1368 - val_mae: 2.2220\n",
            "Epoch 131/200\n",
            "12/12 [==============================] - 0s 7ms/step - loss: 6.1618 - mae: 1.7165 - val_loss: 12.2131 - val_mae: 2.2165\n",
            "Epoch 132/200\n",
            "12/12 [==============================] - 0s 8ms/step - loss: 6.2531 - mae: 1.7226 - val_loss: 11.6449 - val_mae: 2.1655\n",
            "Epoch 133/200\n",
            "12/12 [==============================] - 0s 7ms/step - loss: 6.0276 - mae: 1.7157 - val_loss: 16.4110 - val_mae: 2.6393\n",
            "Epoch 134/200\n",
            "12/12 [==============================] - 0s 8ms/step - loss: 6.3329 - mae: 1.7965 - val_loss: 12.3658 - val_mae: 2.2408\n",
            "Epoch 135/200\n",
            "12/12 [==============================] - 0s 8ms/step - loss: 6.0132 - mae: 1.7154 - val_loss: 12.7566 - val_mae: 2.2233\n",
            "Epoch 136/200\n",
            "12/12 [==============================] - 0s 8ms/step - loss: 5.9082 - mae: 1.6946 - val_loss: 12.5978 - val_mae: 2.2359\n",
            "Epoch 137/200\n",
            "12/12 [==============================] - 0s 7ms/step - loss: 6.0994 - mae: 1.7177 - val_loss: 12.2017 - val_mae: 2.2254\n",
            "Epoch 138/200\n",
            "12/12 [==============================] - 0s 7ms/step - loss: 6.0157 - mae: 1.7205 - val_loss: 12.3438 - val_mae: 2.3239\n",
            "Epoch 139/200\n",
            "12/12 [==============================] - 0s 7ms/step - loss: 6.0173 - mae: 1.6984 - val_loss: 12.0476 - val_mae: 2.2471\n",
            "Epoch 140/200\n",
            "12/12 [==============================] - 0s 6ms/step - loss: 5.8910 - mae: 1.6995 - val_loss: 14.8590 - val_mae: 2.4784\n",
            "Epoch 141/200\n",
            "12/12 [==============================] - 0s 6ms/step - loss: 5.8000 - mae: 1.7304 - val_loss: 13.1504 - val_mae: 2.3514\n",
            "Epoch 142/200\n",
            "12/12 [==============================] - 0s 9ms/step - loss: 5.7479 - mae: 1.6678 - val_loss: 14.5538 - val_mae: 2.5312\n",
            "Epoch 143/200\n",
            "12/12 [==============================] - 0s 12ms/step - loss: 5.9229 - mae: 1.7191 - val_loss: 12.4264 - val_mae: 2.2586\n",
            "Epoch 144/200\n",
            "12/12 [==============================] - 0s 10ms/step - loss: 5.8380 - mae: 1.6632 - val_loss: 11.6581 - val_mae: 2.1944\n",
            "Epoch 145/200\n",
            "12/12 [==============================] - 0s 9ms/step - loss: 5.6998 - mae: 1.6419 - val_loss: 14.0079 - val_mae: 2.3722\n",
            "Epoch 146/200\n",
            "12/12 [==============================] - 0s 9ms/step - loss: 5.6564 - mae: 1.6603 - val_loss: 13.1863 - val_mae: 2.3187\n",
            "Epoch 147/200\n",
            "12/12 [==============================] - 0s 10ms/step - loss: 5.5922 - mae: 1.6748 - val_loss: 12.6997 - val_mae: 2.2816\n",
            "Epoch 148/200\n",
            "12/12 [==============================] - 0s 10ms/step - loss: 5.5396 - mae: 1.6384 - val_loss: 14.2528 - val_mae: 2.4420\n",
            "Epoch 149/200\n",
            "12/12 [==============================] - 0s 11ms/step - loss: 5.8021 - mae: 1.7046 - val_loss: 13.2770 - val_mae: 2.3302\n",
            "Epoch 150/200\n",
            "12/12 [==============================] - 0s 10ms/step - loss: 5.5853 - mae: 1.6706 - val_loss: 11.9445 - val_mae: 2.2150\n",
            "Epoch 151/200\n",
            "12/12 [==============================] - 0s 8ms/step - loss: 5.4699 - mae: 1.6124 - val_loss: 12.1601 - val_mae: 2.2781\n",
            "Epoch 152/200\n",
            "12/12 [==============================] - 0s 6ms/step - loss: 5.5172 - mae: 1.6411 - val_loss: 13.6845 - val_mae: 2.3680\n",
            "Epoch 153/200\n",
            "12/12 [==============================] - 0s 5ms/step - loss: 5.4738 - mae: 1.6286 - val_loss: 14.8752 - val_mae: 2.4931\n",
            "Epoch 154/200\n",
            "12/12 [==============================] - 0s 6ms/step - loss: 5.5104 - mae: 1.6306 - val_loss: 13.0921 - val_mae: 2.2906\n",
            "Epoch 155/200\n",
            "12/12 [==============================] - 0s 6ms/step - loss: 5.4395 - mae: 1.6439 - val_loss: 12.0067 - val_mae: 2.1917\n",
            "Epoch 156/200\n",
            "12/12 [==============================] - 0s 6ms/step - loss: 5.3521 - mae: 1.6022 - val_loss: 15.0300 - val_mae: 2.5572\n",
            "Epoch 157/200\n",
            "12/12 [==============================] - 0s 5ms/step - loss: 5.3530 - mae: 1.6393 - val_loss: 13.1944 - val_mae: 2.3100\n",
            "Epoch 158/200\n",
            "12/12 [==============================] - 0s 6ms/step - loss: 5.2961 - mae: 1.6075 - val_loss: 12.5524 - val_mae: 2.3345\n",
            "Epoch 159/200\n",
            "12/12 [==============================] - 0s 6ms/step - loss: 5.4251 - mae: 1.6157 - val_loss: 11.8047 - val_mae: 2.1918\n",
            "Epoch 160/200\n",
            "12/12 [==============================] - 0s 5ms/step - loss: 5.2949 - mae: 1.6204 - val_loss: 11.3971 - val_mae: 2.1751\n",
            "Epoch 161/200\n",
            "12/12 [==============================] - 0s 5ms/step - loss: 5.2498 - mae: 1.5617 - val_loss: 11.9091 - val_mae: 2.2190\n",
            "Epoch 162/200\n",
            "12/12 [==============================] - 0s 5ms/step - loss: 5.5201 - mae: 1.6439 - val_loss: 11.8627 - val_mae: 2.2346\n",
            "Epoch 163/200\n",
            "12/12 [==============================] - 0s 5ms/step - loss: 5.3301 - mae: 1.5980 - val_loss: 12.5674 - val_mae: 2.2517\n",
            "Epoch 164/200\n",
            "12/12 [==============================] - 0s 6ms/step - loss: 5.1718 - mae: 1.5749 - val_loss: 14.2030 - val_mae: 2.5309\n",
            "Epoch 165/200\n",
            "12/12 [==============================] - 0s 6ms/step - loss: 5.1996 - mae: 1.6258 - val_loss: 11.3358 - val_mae: 2.1328\n",
            "Epoch 166/200\n",
            "12/12 [==============================] - 0s 5ms/step - loss: 5.1714 - mae: 1.6081 - val_loss: 12.5022 - val_mae: 2.2656\n",
            "Epoch 167/200\n",
            "12/12 [==============================] - 0s 6ms/step - loss: 5.0020 - mae: 1.5309 - val_loss: 12.9079 - val_mae: 2.3797\n",
            "Epoch 168/200\n",
            "12/12 [==============================] - 0s 6ms/step - loss: 5.2209 - mae: 1.5602 - val_loss: 15.2837 - val_mae: 2.5136\n",
            "Epoch 169/200\n",
            "12/12 [==============================] - 0s 7ms/step - loss: 5.3017 - mae: 1.6409 - val_loss: 14.4298 - val_mae: 2.5084\n",
            "Epoch 170/200\n",
            "12/12 [==============================] - 0s 5ms/step - loss: 5.0751 - mae: 1.5967 - val_loss: 11.9667 - val_mae: 2.1847\n",
            "Epoch 171/200\n",
            "12/12 [==============================] - 0s 5ms/step - loss: 4.9962 - mae: 1.5495 - val_loss: 13.9516 - val_mae: 2.4455\n",
            "Epoch 172/200\n",
            "12/12 [==============================] - 0s 5ms/step - loss: 5.0522 - mae: 1.5917 - val_loss: 11.9387 - val_mae: 2.1960\n",
            "Epoch 173/200\n",
            "12/12 [==============================] - 0s 6ms/step - loss: 4.8285 - mae: 1.5150 - val_loss: 12.4796 - val_mae: 2.2827\n",
            "Epoch 174/200\n",
            "12/12 [==============================] - 0s 5ms/step - loss: 5.0006 - mae: 1.5640 - val_loss: 11.4937 - val_mae: 2.1639\n",
            "Epoch 175/200\n",
            "12/12 [==============================] - 0s 5ms/step - loss: 5.0234 - mae: 1.5309 - val_loss: 12.2605 - val_mae: 2.2737\n",
            "Epoch 176/200\n",
            "12/12 [==============================] - 0s 6ms/step - loss: 4.8034 - mae: 1.5165 - val_loss: 11.6140 - val_mae: 2.1676\n",
            "Epoch 177/200\n",
            "12/12 [==============================] - 0s 5ms/step - loss: 4.7396 - mae: 1.5040 - val_loss: 16.0788 - val_mae: 2.6515\n",
            "Epoch 178/200\n",
            "12/12 [==============================] - 0s 5ms/step - loss: 4.8689 - mae: 1.5623 - val_loss: 12.0657 - val_mae: 2.2213\n",
            "Epoch 179/200\n",
            "12/12 [==============================] - 0s 7ms/step - loss: 4.8597 - mae: 1.5464 - val_loss: 12.6085 - val_mae: 2.2777\n",
            "Epoch 180/200\n",
            "12/12 [==============================] - 0s 7ms/step - loss: 4.7297 - mae: 1.5318 - val_loss: 13.8097 - val_mae: 2.4056\n",
            "Epoch 181/200\n",
            "12/12 [==============================] - 0s 7ms/step - loss: 4.8216 - mae: 1.5350 - val_loss: 14.7636 - val_mae: 2.4965\n",
            "Epoch 182/200\n",
            "12/12 [==============================] - 0s 7ms/step - loss: 4.8957 - mae: 1.5439 - val_loss: 12.3113 - val_mae: 2.2642\n",
            "Epoch 183/200\n",
            "12/12 [==============================] - 0s 6ms/step - loss: 4.5411 - mae: 1.4738 - val_loss: 13.1551 - val_mae: 2.3166\n",
            "Epoch 184/200\n",
            "12/12 [==============================] - 0s 7ms/step - loss: 4.8119 - mae: 1.5473 - val_loss: 11.6792 - val_mae: 2.2025\n",
            "Epoch 185/200\n",
            "12/12 [==============================] - 0s 6ms/step - loss: 4.6054 - mae: 1.5020 - val_loss: 11.0025 - val_mae: 2.1836\n",
            "Epoch 186/200\n",
            "12/12 [==============================] - 0s 6ms/step - loss: 4.7035 - mae: 1.4974 - val_loss: 11.6644 - val_mae: 2.1926\n",
            "Epoch 187/200\n",
            "12/12 [==============================] - 0s 7ms/step - loss: 4.4968 - mae: 1.4738 - val_loss: 13.8635 - val_mae: 2.5256\n",
            "Epoch 188/200\n",
            "12/12 [==============================] - 0s 7ms/step - loss: 4.8551 - mae: 1.5545 - val_loss: 11.7861 - val_mae: 2.2100\n",
            "Epoch 189/200\n",
            "12/12 [==============================] - 0s 7ms/step - loss: 4.5755 - mae: 1.4905 - val_loss: 11.3769 - val_mae: 2.1903\n",
            "Epoch 190/200\n",
            "12/12 [==============================] - 0s 8ms/step - loss: 4.4713 - mae: 1.4607 - val_loss: 12.8921 - val_mae: 2.3135\n",
            "Epoch 191/200\n",
            "12/12 [==============================] - 0s 7ms/step - loss: 4.5664 - mae: 1.4996 - val_loss: 13.3694 - val_mae: 2.4625\n",
            "Epoch 192/200\n",
            "12/12 [==============================] - 0s 6ms/step - loss: 4.5025 - mae: 1.4679 - val_loss: 12.3228 - val_mae: 2.2854\n",
            "Epoch 193/200\n",
            "12/12 [==============================] - 0s 6ms/step - loss: 4.3024 - mae: 1.4478 - val_loss: 11.8458 - val_mae: 2.2039\n",
            "Epoch 194/200\n",
            "12/12 [==============================] - 0s 5ms/step - loss: 4.5645 - mae: 1.4802 - val_loss: 11.5247 - val_mae: 2.1721\n",
            "Epoch 195/200\n",
            "12/12 [==============================] - 0s 7ms/step - loss: 4.3237 - mae: 1.4576 - val_loss: 12.4791 - val_mae: 2.3160\n",
            "Epoch 196/200\n",
            "12/12 [==============================] - 0s 6ms/step - loss: 4.4376 - mae: 1.4718 - val_loss: 12.9083 - val_mae: 2.4214\n",
            "Epoch 197/200\n",
            "12/12 [==============================] - 0s 6ms/step - loss: 4.3863 - mae: 1.4650 - val_loss: 13.9991 - val_mae: 2.4423\n",
            "Epoch 198/200\n",
            "12/12 [==============================] - 0s 5ms/step - loss: 4.4306 - mae: 1.4656 - val_loss: 12.3518 - val_mae: 2.2783\n",
            "Epoch 199/200\n",
            "12/12 [==============================] - 0s 5ms/step - loss: 4.3350 - mae: 1.4814 - val_loss: 11.8087 - val_mae: 2.1906\n",
            "Epoch 200/200\n",
            "12/12 [==============================] - 0s 5ms/step - loss: 4.1797 - mae: 1.4551 - val_loss: 13.6697 - val_mae: 2.3714\n"
          ]
        }
      ]
    },
    {
      "cell_type": "markdown",
      "source": [
        "## Exe 7 : Model evaluation\n",
        "\n",
        "It is the moment for checking the model performance on the test dataset.\n",
        "\n",
        "Check the test loss and mae of the model.\n",
        "\n",
        "* MAE = Mean Absolute Error (between the labels and predictions)\n",
        "\n",
        "=> A mae equal to 3 represents an average error in prediction of $3k."
      ],
      "metadata": {
        "id": "YpxzW-1p2EXJ"
      }
    },
    {
      "cell_type": "code",
      "source": [
        "\n",
        "\n",
        "score = model.evaluate(x_test, y_test, verbose=0)\n",
        "\n",
        "print('x_test / loss      : {:5.4f}'.format(score[0]))\n",
        "print('x_test / mae       : {:5.4f}'.format(score[1]))\n",
        "\n"
      ],
      "metadata": {
        "colab": {
          "base_uri": "https://localhost:8080/"
        },
        "id": "eBXglsV82RKG",
        "outputId": "9eab52b0-005c-4a41-c831-1e99bd42e11b"
      },
      "execution_count": null,
      "outputs": [
        {
          "output_type": "stream",
          "name": "stdout",
          "text": [
            "x_test / loss      : 13.6697\n",
            "x_test / mae       : 2.3714\n"
          ]
        }
      ]
    },
    {
      "cell_type": "markdown",
      "source": [
        "## Exe 8 : Training histroy\n",
        "\n",
        "What was the best result during our training ?"
      ],
      "metadata": {
        "id": "33BEc6MW4ojs"
      }
    },
    {
      "cell_type": "code",
      "source": [
        "df=pd.DataFrame(data=history.history)\n",
        "display(df)"
      ],
      "metadata": {
        "colab": {
          "base_uri": "https://localhost:8080/",
          "height": 423
        },
        "id": "k66U8rtf6GnC",
        "outputId": "37b9b976-c0f2-4cf5-c0a2-ea985a5fa04e"
      },
      "execution_count": null,
      "outputs": [
        {
          "output_type": "display_data",
          "data": {
            "text/plain": [
              "           loss        mae    val_loss    val_mae\n",
              "0    561.989746  21.887869  515.663513  20.542610\n",
              "1    486.450134  20.146275  438.299805  18.698023\n",
              "2    407.308350  18.202227  359.274658  16.613323\n",
              "3    325.391235  16.007366  272.098175  14.169997\n",
              "4    237.598877  13.394883  190.298355  11.629504\n",
              "..          ...        ...         ...        ...\n",
              "195    4.437623   1.471762   12.908257   2.421422\n",
              "196    4.386265   1.465048   13.999062   2.442331\n",
              "197    4.430567   1.465606   12.351762   2.278300\n",
              "198    4.334950   1.481428   11.808708   2.190623\n",
              "199    4.179684   1.455063   13.669734   2.371440\n",
              "\n",
              "[200 rows x 4 columns]"
            ],
            "text/html": [
              "\n",
              "  <div id=\"df-8afcaea6-230e-4c84-b60a-7fcd99454546\" class=\"colab-df-container\">\n",
              "    <div>\n",
              "<style scoped>\n",
              "    .dataframe tbody tr th:only-of-type {\n",
              "        vertical-align: middle;\n",
              "    }\n",
              "\n",
              "    .dataframe tbody tr th {\n",
              "        vertical-align: top;\n",
              "    }\n",
              "\n",
              "    .dataframe thead th {\n",
              "        text-align: right;\n",
              "    }\n",
              "</style>\n",
              "<table border=\"1\" class=\"dataframe\">\n",
              "  <thead>\n",
              "    <tr style=\"text-align: right;\">\n",
              "      <th></th>\n",
              "      <th>loss</th>\n",
              "      <th>mae</th>\n",
              "      <th>val_loss</th>\n",
              "      <th>val_mae</th>\n",
              "    </tr>\n",
              "  </thead>\n",
              "  <tbody>\n",
              "    <tr>\n",
              "      <th>0</th>\n",
              "      <td>561.989746</td>\n",
              "      <td>21.887869</td>\n",
              "      <td>515.663513</td>\n",
              "      <td>20.542610</td>\n",
              "    </tr>\n",
              "    <tr>\n",
              "      <th>1</th>\n",
              "      <td>486.450134</td>\n",
              "      <td>20.146275</td>\n",
              "      <td>438.299805</td>\n",
              "      <td>18.698023</td>\n",
              "    </tr>\n",
              "    <tr>\n",
              "      <th>2</th>\n",
              "      <td>407.308350</td>\n",
              "      <td>18.202227</td>\n",
              "      <td>359.274658</td>\n",
              "      <td>16.613323</td>\n",
              "    </tr>\n",
              "    <tr>\n",
              "      <th>3</th>\n",
              "      <td>325.391235</td>\n",
              "      <td>16.007366</td>\n",
              "      <td>272.098175</td>\n",
              "      <td>14.169997</td>\n",
              "    </tr>\n",
              "    <tr>\n",
              "      <th>4</th>\n",
              "      <td>237.598877</td>\n",
              "      <td>13.394883</td>\n",
              "      <td>190.298355</td>\n",
              "      <td>11.629504</td>\n",
              "    </tr>\n",
              "    <tr>\n",
              "      <th>...</th>\n",
              "      <td>...</td>\n",
              "      <td>...</td>\n",
              "      <td>...</td>\n",
              "      <td>...</td>\n",
              "    </tr>\n",
              "    <tr>\n",
              "      <th>195</th>\n",
              "      <td>4.437623</td>\n",
              "      <td>1.471762</td>\n",
              "      <td>12.908257</td>\n",
              "      <td>2.421422</td>\n",
              "    </tr>\n",
              "    <tr>\n",
              "      <th>196</th>\n",
              "      <td>4.386265</td>\n",
              "      <td>1.465048</td>\n",
              "      <td>13.999062</td>\n",
              "      <td>2.442331</td>\n",
              "    </tr>\n",
              "    <tr>\n",
              "      <th>197</th>\n",
              "      <td>4.430567</td>\n",
              "      <td>1.465606</td>\n",
              "      <td>12.351762</td>\n",
              "      <td>2.278300</td>\n",
              "    </tr>\n",
              "    <tr>\n",
              "      <th>198</th>\n",
              "      <td>4.334950</td>\n",
              "      <td>1.481428</td>\n",
              "      <td>11.808708</td>\n",
              "      <td>2.190623</td>\n",
              "    </tr>\n",
              "    <tr>\n",
              "      <th>199</th>\n",
              "      <td>4.179684</td>\n",
              "      <td>1.455063</td>\n",
              "      <td>13.669734</td>\n",
              "      <td>2.371440</td>\n",
              "    </tr>\n",
              "  </tbody>\n",
              "</table>\n",
              "<p>200 rows × 4 columns</p>\n",
              "</div>\n",
              "    <div class=\"colab-df-buttons\">\n",
              "\n",
              "  <div class=\"colab-df-container\">\n",
              "    <button class=\"colab-df-convert\" onclick=\"convertToInteractive('df-8afcaea6-230e-4c84-b60a-7fcd99454546')\"\n",
              "            title=\"Convert this dataframe to an interactive table.\"\n",
              "            style=\"display:none;\">\n",
              "\n",
              "  <svg xmlns=\"http://www.w3.org/2000/svg\" height=\"24px\" viewBox=\"0 -960 960 960\">\n",
              "    <path d=\"M120-120v-720h720v720H120Zm60-500h600v-160H180v160Zm220 220h160v-160H400v160Zm0 220h160v-160H400v160ZM180-400h160v-160H180v160Zm440 0h160v-160H620v160ZM180-180h160v-160H180v160Zm440 0h160v-160H620v160Z\"/>\n",
              "  </svg>\n",
              "    </button>\n",
              "\n",
              "  <style>\n",
              "    .colab-df-container {\n",
              "      display:flex;\n",
              "      gap: 12px;\n",
              "    }\n",
              "\n",
              "    .colab-df-convert {\n",
              "      background-color: #E8F0FE;\n",
              "      border: none;\n",
              "      border-radius: 50%;\n",
              "      cursor: pointer;\n",
              "      display: none;\n",
              "      fill: #1967D2;\n",
              "      height: 32px;\n",
              "      padding: 0 0 0 0;\n",
              "      width: 32px;\n",
              "    }\n",
              "\n",
              "    .colab-df-convert:hover {\n",
              "      background-color: #E2EBFA;\n",
              "      box-shadow: 0px 1px 2px rgba(60, 64, 67, 0.3), 0px 1px 3px 1px rgba(60, 64, 67, 0.15);\n",
              "      fill: #174EA6;\n",
              "    }\n",
              "\n",
              "    .colab-df-buttons div {\n",
              "      margin-bottom: 4px;\n",
              "    }\n",
              "\n",
              "    [theme=dark] .colab-df-convert {\n",
              "      background-color: #3B4455;\n",
              "      fill: #D2E3FC;\n",
              "    }\n",
              "\n",
              "    [theme=dark] .colab-df-convert:hover {\n",
              "      background-color: #434B5C;\n",
              "      box-shadow: 0px 1px 3px 1px rgba(0, 0, 0, 0.15);\n",
              "      filter: drop-shadow(0px 1px 2px rgba(0, 0, 0, 0.3));\n",
              "      fill: #FFFFFF;\n",
              "    }\n",
              "  </style>\n",
              "\n",
              "    <script>\n",
              "      const buttonEl =\n",
              "        document.querySelector('#df-8afcaea6-230e-4c84-b60a-7fcd99454546 button.colab-df-convert');\n",
              "      buttonEl.style.display =\n",
              "        google.colab.kernel.accessAllowed ? 'block' : 'none';\n",
              "\n",
              "      async function convertToInteractive(key) {\n",
              "        const element = document.querySelector('#df-8afcaea6-230e-4c84-b60a-7fcd99454546');\n",
              "        const dataTable =\n",
              "          await google.colab.kernel.invokeFunction('convertToInteractive',\n",
              "                                                    [key], {});\n",
              "        if (!dataTable) return;\n",
              "\n",
              "        const docLinkHtml = 'Like what you see? Visit the ' +\n",
              "          '<a target=\"_blank\" href=https://colab.research.google.com/notebooks/data_table.ipynb>data table notebook</a>'\n",
              "          + ' to learn more about interactive tables.';\n",
              "        element.innerHTML = '';\n",
              "        dataTable['output_type'] = 'display_data';\n",
              "        await google.colab.output.renderOutput(dataTable, element);\n",
              "        const docLink = document.createElement('div');\n",
              "        docLink.innerHTML = docLinkHtml;\n",
              "        element.appendChild(docLink);\n",
              "      }\n",
              "    </script>\n",
              "  </div>\n",
              "\n",
              "\n",
              "<div id=\"df-4cd64333-9ca7-4e8f-8855-48fa61a16d1d\">\n",
              "  <button class=\"colab-df-quickchart\" onclick=\"quickchart('df-4cd64333-9ca7-4e8f-8855-48fa61a16d1d')\"\n",
              "            title=\"Suggest charts\"\n",
              "            style=\"display:none;\">\n",
              "\n",
              "<svg xmlns=\"http://www.w3.org/2000/svg\" height=\"24px\"viewBox=\"0 0 24 24\"\n",
              "     width=\"24px\">\n",
              "    <g>\n",
              "        <path d=\"M19 3H5c-1.1 0-2 .9-2 2v14c0 1.1.9 2 2 2h14c1.1 0 2-.9 2-2V5c0-1.1-.9-2-2-2zM9 17H7v-7h2v7zm4 0h-2V7h2v10zm4 0h-2v-4h2v4z\"/>\n",
              "    </g>\n",
              "</svg>\n",
              "  </button>\n",
              "\n",
              "<style>\n",
              "  .colab-df-quickchart {\n",
              "      --bg-color: #E8F0FE;\n",
              "      --fill-color: #1967D2;\n",
              "      --hover-bg-color: #E2EBFA;\n",
              "      --hover-fill-color: #174EA6;\n",
              "      --disabled-fill-color: #AAA;\n",
              "      --disabled-bg-color: #DDD;\n",
              "  }\n",
              "\n",
              "  [theme=dark] .colab-df-quickchart {\n",
              "      --bg-color: #3B4455;\n",
              "      --fill-color: #D2E3FC;\n",
              "      --hover-bg-color: #434B5C;\n",
              "      --hover-fill-color: #FFFFFF;\n",
              "      --disabled-bg-color: #3B4455;\n",
              "      --disabled-fill-color: #666;\n",
              "  }\n",
              "\n",
              "  .colab-df-quickchart {\n",
              "    background-color: var(--bg-color);\n",
              "    border: none;\n",
              "    border-radius: 50%;\n",
              "    cursor: pointer;\n",
              "    display: none;\n",
              "    fill: var(--fill-color);\n",
              "    height: 32px;\n",
              "    padding: 0;\n",
              "    width: 32px;\n",
              "  }\n",
              "\n",
              "  .colab-df-quickchart:hover {\n",
              "    background-color: var(--hover-bg-color);\n",
              "    box-shadow: 0 1px 2px rgba(60, 64, 67, 0.3), 0 1px 3px 1px rgba(60, 64, 67, 0.15);\n",
              "    fill: var(--button-hover-fill-color);\n",
              "  }\n",
              "\n",
              "  .colab-df-quickchart-complete:disabled,\n",
              "  .colab-df-quickchart-complete:disabled:hover {\n",
              "    background-color: var(--disabled-bg-color);\n",
              "    fill: var(--disabled-fill-color);\n",
              "    box-shadow: none;\n",
              "  }\n",
              "\n",
              "  .colab-df-spinner {\n",
              "    border: 2px solid var(--fill-color);\n",
              "    border-color: transparent;\n",
              "    border-bottom-color: var(--fill-color);\n",
              "    animation:\n",
              "      spin 1s steps(1) infinite;\n",
              "  }\n",
              "\n",
              "  @keyframes spin {\n",
              "    0% {\n",
              "      border-color: transparent;\n",
              "      border-bottom-color: var(--fill-color);\n",
              "      border-left-color: var(--fill-color);\n",
              "    }\n",
              "    20% {\n",
              "      border-color: transparent;\n",
              "      border-left-color: var(--fill-color);\n",
              "      border-top-color: var(--fill-color);\n",
              "    }\n",
              "    30% {\n",
              "      border-color: transparent;\n",
              "      border-left-color: var(--fill-color);\n",
              "      border-top-color: var(--fill-color);\n",
              "      border-right-color: var(--fill-color);\n",
              "    }\n",
              "    40% {\n",
              "      border-color: transparent;\n",
              "      border-right-color: var(--fill-color);\n",
              "      border-top-color: var(--fill-color);\n",
              "    }\n",
              "    60% {\n",
              "      border-color: transparent;\n",
              "      border-right-color: var(--fill-color);\n",
              "    }\n",
              "    80% {\n",
              "      border-color: transparent;\n",
              "      border-right-color: var(--fill-color);\n",
              "      border-bottom-color: var(--fill-color);\n",
              "    }\n",
              "    90% {\n",
              "      border-color: transparent;\n",
              "      border-bottom-color: var(--fill-color);\n",
              "    }\n",
              "  }\n",
              "</style>\n",
              "\n",
              "  <script>\n",
              "    async function quickchart(key) {\n",
              "      const quickchartButtonEl =\n",
              "        document.querySelector('#' + key + ' button');\n",
              "      quickchartButtonEl.disabled = true;  // To prevent multiple clicks.\n",
              "      quickchartButtonEl.classList.add('colab-df-spinner');\n",
              "      try {\n",
              "        const charts = await google.colab.kernel.invokeFunction(\n",
              "            'suggestCharts', [key], {});\n",
              "      } catch (error) {\n",
              "        console.error('Error during call to suggestCharts:', error);\n",
              "      }\n",
              "      quickchartButtonEl.classList.remove('colab-df-spinner');\n",
              "      quickchartButtonEl.classList.add('colab-df-quickchart-complete');\n",
              "    }\n",
              "    (() => {\n",
              "      let quickchartButtonEl =\n",
              "        document.querySelector('#df-4cd64333-9ca7-4e8f-8855-48fa61a16d1d button');\n",
              "      quickchartButtonEl.style.display =\n",
              "        google.colab.kernel.accessAllowed ? 'block' : 'none';\n",
              "    })();\n",
              "  </script>\n",
              "</div>\n",
              "    </div>\n",
              "  </div>\n"
            ]
          },
          "metadata": {}
        }
      ]
    },
    {
      "cell_type": "code",
      "source": [
        "print(\"min( val_mae ) : {:.4f}\".format( min(history.history[\"val_mae\"]) ) )"
      ],
      "metadata": {
        "colab": {
          "base_uri": "https://localhost:8080/"
        },
        "id": "q3CC28B16UHT",
        "outputId": "f0a87647-21b7-4203-a732-ef50772f0fbe"
      },
      "execution_count": null,
      "outputs": [
        {
          "output_type": "stream",
          "name": "stdout",
          "text": [
            "min( val_mae ) : 2.1328\n"
          ]
        }
      ]
    },
    {
      "cell_type": "code",
      "source": [
        "history.history.keys()"
      ],
      "metadata": {
        "colab": {
          "base_uri": "https://localhost:8080/"
        },
        "id": "2Ps1brPN6xEh",
        "outputId": "61fcc94d-b77d-49ee-e774-908b0ef6cbc8"
      },
      "execution_count": null,
      "outputs": [
        {
          "output_type": "execute_result",
          "data": {
            "text/plain": [
              "dict_keys(['loss', 'mae', 'val_loss', 'val_mae'])"
            ]
          },
          "metadata": {},
          "execution_count": 11
        }
      ]
    },
    {
      "cell_type": "code",
      "source": [
        "import matplotlib.pyplot as plt\n",
        "plt.plot(range(1, len(history.history['loss']) + 1), history.history['loss'])\n",
        "plt.xlabel('Epochs')\n",
        "plt.ylabel('Validation MAE')\n",
        "plt.show()"
      ],
      "metadata": {
        "colab": {
          "base_uri": "https://localhost:8080/",
          "height": 449
        },
        "id": "q8uGuQOM60Gq",
        "outputId": "662e7504-1757-4b69-e15f-c406e5e0ab5f"
      },
      "execution_count": null,
      "outputs": [
        {
          "output_type": "display_data",
          "data": {
            "text/plain": [
              "<Figure size 640x480 with 1 Axes>"
            ],
            "image/png": "[encoded data removed]"
          },
          "metadata": {}
        }
      ]
    },
    {
      "cell_type": "code",
      "source": [
        "\n",
        "\n",
        "plt.plot(history.history['loss'],linestyle='--', marker='+', label='train' )\n",
        "plt.plot(history.history['val_loss'],linestyle='--', marker='o', label='test')\n",
        "plt.title('LOSS', pad=-50)\n",
        "plt.legend()\n",
        "#plt.title('lrate='+str(lrate), pad=-50)\n",
        "\n"
      ],
      "metadata": {
        "colab": {
          "base_uri": "https://localhost:8080/",
          "height": 465
        },
        "id": "2V_QxA_-6XQ2",
        "outputId": "64baa8a7-f002-4e6a-de30-440fb49be36b"
      },
      "execution_count": null,
      "outputs": [
        {
          "output_type": "execute_result",
          "data": {
            "text/plain": [
              "<matplotlib.legend.Legend at 0x7aee767beb30>"
            ]
          },
          "metadata": {},
          "execution_count": 13
        },
        {
          "output_type": "display_data",
          "data": {
            "text/plain": [
              "<Figure size 640x480 with 1 Axes>"
            ],
            "image/png": "[encoded data removed]"
          },
          "metadata": {}
        }
      ]
    },
    {
      "cell_type": "code",
      "source": [
        "plt.plot(history.history['mae'],linestyle='--', marker='+', label='train' )\n",
        "plt.plot(history.history['val_mae'],linestyle='--', marker='o', label='test')\n",
        "plt.title('MAE', pad=-50)\n",
        "plt.legend()"
      ],
      "metadata": {
        "colab": {
          "base_uri": "https://localhost:8080/",
          "height": 465
        },
        "id": "DPlUFKOy77Cr",
        "outputId": "b1b92405-c10b-453a-cb77-7c3c6d53959e"
      },
      "execution_count": null,
      "outputs": [
        {
          "output_type": "execute_result",
          "data": {
            "text/plain": [
              "<matplotlib.legend.Legend at 0x7aee76602e30>"
            ]
          },
          "metadata": {},
          "execution_count": 14
        },
        {
          "output_type": "display_data",
          "data": {
            "text/plain": [
              "<Figure size 640x480 with 1 Axes>"
            ],
            "image/png": "[encoded data removed]"
          },
          "metadata": {}
        }
      ]
    },
    {
      "cell_type": "markdown",
      "source": [
        "## Exe 9: Model Prediction\n",
        "\n",
        "Use the trained neural network model, to predict the price of a given house and compare the result with the ground truth"
      ],
      "metadata": {
        "id": "4tuYScCT8Rah"
      }
    },
    {
      "cell_type": "code",
      "source": [
        "\n",
        "\n",
        "my_house = [ 1.26425925, -0.48522739,  1.0436489 , -0.23112788,  1.37120745,\n",
        "       -2.14308942,  1.13489104, -1.06802005,  1.71189006,  1.57042287,\n",
        "        0.77859951,  0.14769795,  2.7585581 ]\n",
        "real_price = 10.4\n",
        "\n",
        "\n",
        "my_house"
      ],
      "metadata": {
        "id": "fiRxcz2m8Ybg",
        "colab": {
          "base_uri": "https://localhost:8080/"
        },
        "outputId": "007350be-b826-4c89-a48c-17a831e5e21a"
      },
      "execution_count": null,
      "outputs": [
        {
          "output_type": "execute_result",
          "data": {
            "text/plain": [
              "[1.26425925,\n",
              " -0.48522739,\n",
              " 1.0436489,\n",
              " -0.23112788,\n",
              " 1.37120745,\n",
              " -2.14308942,\n",
              " 1.13489104,\n",
              " -1.06802005,\n",
              " 1.71189006,\n",
              " 1.57042287,\n",
              " 0.77859951,\n",
              " 0.14769795,\n",
              " 2.7585581]"
            ]
          },
          "metadata": {},
          "execution_count": 16
        }
      ]
    },
    {
      "cell_type": "code",
      "source": [
        "my_house=np.array(my_house).reshape(1,13)\n",
        "my_house"
      ],
      "metadata": {
        "colab": {
          "base_uri": "https://localhost:8080/"
        },
        "id": "0X3ptdQDt6h3",
        "outputId": "f3efb059-0f70-4f14-fde5-114b33a61968"
      },
      "execution_count": null,
      "outputs": [
        {
          "output_type": "execute_result",
          "data": {
            "text/plain": [
              "array([[ 1.26425925, -0.48522739,  1.0436489 , -0.23112788,  1.37120745,\n",
              "        -2.14308942,  1.13489104, -1.06802005,  1.71189006,  1.57042287,\n",
              "         0.77859951,  0.14769795,  2.7585581 ]])"
            ]
          },
          "metadata": {},
          "execution_count": 17
        }
      ]
    },
    {
      "cell_type": "code",
      "source": [
        "\n",
        "\n",
        "predictions = model.predict( my_house )\n",
        "print(\"Prediction : {:.2f} K$\".format(predictions[0][0]))\n",
        "print(\"Reality    : {:.2f} K$\".format(real_price))\n",
        "\n"
      ],
      "metadata": {
        "colab": {
          "base_uri": "https://localhost:8080/"
        },
        "id": "5REqbpBf8cF_",
        "outputId": "925770b7-51ce-474e-873c-deebf2fce739"
      },
      "execution_count": null,
      "outputs": [
        {
          "output_type": "stream",
          "name": "stdout",
          "text": [
            "1/1 [==============================] - 0s 151ms/step\n",
            "Prediction : 10.40 K$\n",
            "Reality    : 10.40 K$\n"
          ]
        }
      ]
    },
    {
      "cell_type": "markdown",
      "source": [
        "## Exe 10 Early stoping\n",
        "\n",
        "Create a neural network with the following specifications:\n",
        "\n",
        "* Number of hidden layers: 2\n",
        "* Number of units in each hidden layer: 64\n",
        "* Activation function for the hidden layers: ReLU\n",
        "* Output layer: Single unit with no activation function (for linear output)\n",
        "* Loss function: Mean Squared Error (MSE)\n",
        "* Additional metric to monitor during training: Mean Absolute Error (MAE)\n",
        "* Optimizer: 'rmsprop'\n",
        "* Apply dropout after each hidden layer with a dropout rate of 0.5 (50% of nodes dropped randomly for the following layer)\n",
        "* Minibatch size: 100\n",
        "* Use early stopping for fitting the model with patience=20 and epochs = 300\n",
        "* Save the best model as 'model_best'\n",
        "* Evaluate the saved model on the test data"
      ],
      "metadata": {
        "id": "Al8LGaguGbFw"
      }
    },
    {
      "cell_type": "code",
      "source": [
        "  model = keras.models.Sequential()\n",
        "  model.add(keras.layers.Input(13, name=\"InputLayer\"))\n",
        "  model.add(keras.layers.Dense(64, activation='relu', name='Dense_n1'))\n",
        "  model.add(keras.layers.Dropout(0.5))\n",
        "  model.add(keras.layers.Dense(64, activation='relu', name='Dense_n2'))\n",
        "  model.add(keras.layers.Dropout(0.5))\n",
        "  model.add(keras.layers.Dense(1, name='Output'))\n"
      ],
      "metadata": {
        "id": "VHeSqPpOHleE"
      },
      "execution_count": null,
      "outputs": []
    },
    {
      "cell_type": "code",
      "source": [
        "from keras.callbacks import ModelCheckpoint\n",
        "from keras.callbacks import EarlyStopping\n",
        "from keras.models import load_model"
      ],
      "metadata": {
        "id": "l6g9Bx-DGarX"
      },
      "execution_count": null,
      "outputs": []
    },
    {
      "cell_type": "code",
      "source": [
        "es = EarlyStopping(monitor='val_mae', mode='auto', verbose=0,patience=5)\n",
        "mc = ModelCheckpoint('model_best.h5', monitor='val_mae', mode='min', verbose=1, save_best_only=True)\n",
        "model.compile(optimizer='rmsprop', loss ='mse', metrics = ['mae'])"
      ],
      "metadata": {
        "id": "t4cpGLcuHN_y"
      },
      "execution_count": null,
      "outputs": []
    },
    {
      "cell_type": "code",
      "source": [
        "history = model.fit(x_train, y_train, validation_split=0.2, epochs=300,batch_size=100, verbose=0,callbacks=[es, mc])\n",
        "saved_model = load_model('model_best.h5')"
      ],
      "metadata": {
        "colab": {
          "base_uri": "https://localhost:8080/"
        },
        "id": "Lh0TNO83Hdzi",
        "outputId": "95f85e09-8b74-4573-d3aa-585b326578b4"
      },
      "execution_count": null,
      "outputs": [
        {
          "output_type": "stream",
          "name": "stdout",
          "text": [
            "\n",
            "Epoch 1: val_mae improved from inf to 23.42490, saving model to model_best.h5\n",
            "\n",
            "Epoch 2: val_mae improved from 23.42490 to 22.93835, saving model to model_best.h5\n",
            "\n",
            "Epoch 3: val_mae improved from 22.93835 to 22.47358, saving model to model_best.h5\n"
          ]
        },
        {
          "output_type": "stream",
          "name": "stderr",
          "text": [
            "/usr/local/lib/python3.10/dist-packages/keras/src/engine/training.py:3103: UserWarning: You are saving your model as an HDF5 file via `model.save()`. This file format is considered legacy. We recommend using instead the native Keras format, e.g. `model.save('my_model.keras')`.\n",
            "  saving_api.save_model(\n"
          ]
        },
        {
          "output_type": "stream",
          "name": "stdout",
          "text": [
            "\n",
            "Epoch 4: val_mae improved from 22.47358 to 22.00739, saving model to model_best.h5\n",
            "\n",
            "Epoch 5: val_mae improved from 22.00739 to 21.50183, saving model to model_best.h5\n",
            "\n",
            "Epoch 6: val_mae improved from 21.50183 to 20.97085, saving model to model_best.h5\n",
            "\n",
            "Epoch 7: val_mae improved from 20.97085 to 20.42084, saving model to model_best.h5\n",
            "\n",
            "Epoch 8: val_mae improved from 20.42084 to 19.84303, saving model to model_best.h5\n",
            "\n",
            "Epoch 9: val_mae improved from 19.84303 to 19.24119, saving model to model_best.h5\n",
            "\n",
            "Epoch 10: val_mae improved from 19.24119 to 18.61168, saving model to model_best.h5\n",
            "\n",
            "Epoch 11: val_mae improved from 18.61168 to 17.98846, saving model to model_best.h5\n",
            "\n",
            "Epoch 12: val_mae improved from 17.98846 to 17.33949, saving model to model_best.h5\n",
            "\n",
            "Epoch 13: val_mae improved from 17.33949 to 16.67270, saving model to model_best.h5\n",
            "\n",
            "Epoch 14: val_mae improved from 16.67270 to 15.96392, saving model to model_best.h5\n",
            "\n",
            "Epoch 15: val_mae improved from 15.96392 to 15.25997, saving model to model_best.h5\n",
            "\n",
            "Epoch 16: val_mae improved from 15.25997 to 14.52118, saving model to model_best.h5\n",
            "\n",
            "Epoch 17: val_mae improved from 14.52118 to 13.81920, saving model to model_best.h5\n",
            "\n",
            "Epoch 18: val_mae improved from 13.81920 to 13.07967, saving model to model_best.h5\n",
            "\n",
            "Epoch 19: val_mae improved from 13.07967 to 12.39937, saving model to model_best.h5\n",
            "\n",
            "Epoch 20: val_mae improved from 12.39937 to 11.75985, saving model to model_best.h5\n",
            "\n",
            "Epoch 21: val_mae improved from 11.75985 to 11.17232, saving model to model_best.h5\n",
            "\n",
            "Epoch 22: val_mae improved from 11.17232 to 10.66292, saving model to model_best.h5\n",
            "\n",
            "Epoch 23: val_mae improved from 10.66292 to 10.13114, saving model to model_best.h5\n",
            "\n",
            "Epoch 24: val_mae improved from 10.13114 to 9.71097, saving model to model_best.h5\n",
            "\n",
            "Epoch 25: val_mae improved from 9.71097 to 9.27493, saving model to model_best.h5\n",
            "\n",
            "Epoch 26: val_mae improved from 9.27493 to 8.83079, saving model to model_best.h5\n",
            "\n",
            "Epoch 27: val_mae improved from 8.83079 to 8.40349, saving model to model_best.h5\n",
            "\n",
            "Epoch 28: val_mae improved from 8.40349 to 8.10049, saving model to model_best.h5\n",
            "\n",
            "Epoch 29: val_mae improved from 8.10049 to 7.78077, saving model to model_best.h5\n",
            "\n",
            "Epoch 30: val_mae improved from 7.78077 to 7.59864, saving model to model_best.h5\n",
            "\n",
            "Epoch 31: val_mae improved from 7.59864 to 7.32486, saving model to model_best.h5\n",
            "\n",
            "Epoch 32: val_mae improved from 7.32486 to 7.11494, saving model to model_best.h5\n",
            "\n",
            "Epoch 33: val_mae improved from 7.11494 to 6.86586, saving model to model_best.h5\n",
            "\n",
            "Epoch 34: val_mae improved from 6.86586 to 6.59719, saving model to model_best.h5\n",
            "\n",
            "Epoch 35: val_mae improved from 6.59719 to 6.33382, saving model to model_best.h5\n",
            "\n",
            "Epoch 36: val_mae improved from 6.33382 to 6.18281, saving model to model_best.h5\n",
            "\n",
            "Epoch 37: val_mae improved from 6.18281 to 5.93788, saving model to model_best.h5\n",
            "\n",
            "Epoch 38: val_mae improved from 5.93788 to 5.82912, saving model to model_best.h5\n",
            "\n",
            "Epoch 39: val_mae improved from 5.82912 to 5.62020, saving model to model_best.h5\n",
            "\n",
            "Epoch 40: val_mae improved from 5.62020 to 5.38684, saving model to model_best.h5\n",
            "\n",
            "Epoch 41: val_mae improved from 5.38684 to 5.19375, saving model to model_best.h5\n",
            "\n",
            "Epoch 42: val_mae improved from 5.19375 to 5.06826, saving model to model_best.h5\n",
            "\n",
            "Epoch 43: val_mae did not improve from 5.06826\n",
            "\n",
            "Epoch 44: val_mae improved from 5.06826 to 4.92598, saving model to model_best.h5\n",
            "\n",
            "Epoch 45: val_mae did not improve from 4.92598\n",
            "\n",
            "Epoch 46: val_mae improved from 4.92598 to 4.78793, saving model to model_best.h5\n",
            "\n",
            "Epoch 47: val_mae improved from 4.78793 to 4.58243, saving model to model_best.h5\n",
            "\n",
            "Epoch 48: val_mae did not improve from 4.58243\n",
            "\n",
            "Epoch 49: val_mae improved from 4.58243 to 4.49267, saving model to model_best.h5\n",
            "\n",
            "Epoch 50: val_mae improved from 4.49267 to 4.37943, saving model to model_best.h5\n",
            "\n",
            "Epoch 51: val_mae improved from 4.37943 to 4.28297, saving model to model_best.h5\n",
            "\n",
            "Epoch 52: val_mae improved from 4.28297 to 4.17541, saving model to model_best.h5\n",
            "\n",
            "Epoch 53: val_mae improved from 4.17541 to 4.08434, saving model to model_best.h5\n",
            "\n",
            "Epoch 54: val_mae did not improve from 4.08434\n",
            "\n",
            "Epoch 55: val_mae improved from 4.08434 to 4.01453, saving model to model_best.h5\n",
            "\n",
            "Epoch 56: val_mae improved from 4.01453 to 3.98532, saving model to model_best.h5\n",
            "\n",
            "Epoch 57: val_mae improved from 3.98532 to 3.88409, saving model to model_best.h5\n",
            "\n",
            "Epoch 58: val_mae improved from 3.88409 to 3.84741, saving model to model_best.h5\n",
            "\n",
            "Epoch 59: val_mae improved from 3.84741 to 3.74133, saving model to model_best.h5\n",
            "\n",
            "Epoch 60: val_mae improved from 3.74133 to 3.64668, saving model to model_best.h5\n",
            "\n",
            "Epoch 61: val_mae did not improve from 3.64668\n",
            "\n",
            "Epoch 62: val_mae did not improve from 3.64668\n",
            "\n",
            "Epoch 63: val_mae improved from 3.64668 to 3.64177, saving model to model_best.h5\n",
            "\n",
            "Epoch 64: val_mae did not improve from 3.64177\n",
            "\n",
            "Epoch 65: val_mae improved from 3.64177 to 3.53647, saving model to model_best.h5\n",
            "\n",
            "Epoch 66: val_mae improved from 3.53647 to 3.48599, saving model to model_best.h5\n",
            "\n",
            "Epoch 67: val_mae improved from 3.48599 to 3.33678, saving model to model_best.h5\n",
            "\n",
            "Epoch 68: val_mae did not improve from 3.33678\n",
            "\n",
            "Epoch 69: val_mae did not improve from 3.33678\n",
            "\n",
            "Epoch 70: val_mae did not improve from 3.33678\n",
            "\n",
            "Epoch 71: val_mae did not improve from 3.33678\n",
            "\n",
            "Epoch 72: val_mae did not improve from 3.33678\n"
          ]
        }
      ]
    },
    {
      "cell_type": "code",
      "source": [
        "test_loss, test_acc = saved_model.evaluate(x_test, y_test, verbose=2)\n",
        "print(test_loss, test_acc)"
      ],
      "metadata": {
        "colab": {
          "base_uri": "https://localhost:8080/"
        },
        "id": "k4Yn5vSPHjsK",
        "outputId": "2e352dcb-88e1-4e6b-8457-6dc6f17c2452"
      },
      "execution_count": null,
      "outputs": [
        {
          "output_type": "stream",
          "name": "stdout",
          "text": [
            "5/5 - 0s - loss: 19.5422 - mae: 3.3041 - 121ms/epoch - 24ms/step\n",
            "19.542232513427734 3.3041136264801025\n"
          ]
        }
      ]
    },
    {
      "cell_type": "markdown",
      "source": [
        "# Classification with DNN"
      ],
      "metadata": {
        "id": "9ukmkExmVf2Y"
      }
    },
    {
      "cell_type": "markdown",
      "source": [
        "## Exe 1:  Import data\n",
        "\n",
        "Import the cifra10 data set. The CIFAR-10 dataset consists of 60000\n",
        "32 x 32 colour images in 10 classes, with 6000 images per class. There are\n",
        "50000 training images and 10000 test images: https://www.tensorflow.org/datasets/catalog/cifar10"
      ],
      "metadata": {
        "id": "ki33nGO6PBw4"
      }
    },
    {
      "cell_type": "code",
      "source": [
        "data = keras . datasets . cifar10\n",
        "cifar10_data = data . load_data ()"
      ],
      "metadata": {
        "colab": {
          "base_uri": "https://localhost:8080/"
        },
        "id": "TVAGkI_1PlxE",
        "outputId": "e5007da3-099d-4c9a-c4aa-9727a3832853"
      },
      "execution_count": null,
      "outputs": [
        {
          "output_type": "stream",
          "name": "stdout",
          "text": [
            "Downloading data from https://www.cs.toronto.edu/~kriz/cifar-10-python.tar.gz\n",
            "170498071/170498071 [==============================] - 2s 0us/step\n"
          ]
        }
      ]
    },
    {
      "cell_type": "markdown",
      "source": [
        "## Exe 2 :\n",
        "\n",
        "Before using a dataset, the datatype should be checked. Test *type(cifar10 data)*\n",
        "for verifying the variable type. *len(cifar10 data)* is another command for\n",
        "checking the data size."
      ],
      "metadata": {
        "id": "2Fs6Kfq3PpAF"
      }
    },
    {
      "cell_type": "code",
      "source": [
        "type(cifar10_data)"
      ],
      "metadata": {
        "colab": {
          "base_uri": "https://localhost:8080/"
        },
        "id": "zU7mG6kZQ__a",
        "outputId": "dc5cb0f4-78a5-491d-b8ee-812834420cf6"
      },
      "execution_count": null,
      "outputs": [
        {
          "output_type": "execute_result",
          "data": {
            "text/plain": [
              "tuple"
            ]
          },
          "metadata": {},
          "execution_count": 4
        }
      ]
    },
    {
      "cell_type": "code",
      "source": [
        "\n",
        "len(cifar10_data)"
      ],
      "metadata": {
        "colab": {
          "base_uri": "https://localhost:8080/"
        },
        "id": "rojeY8rwP82_",
        "outputId": "d9770de4-d4db-4f31-d85c-914b79e99f68"
      },
      "execution_count": null,
      "outputs": [
        {
          "output_type": "execute_result",
          "data": {
            "text/plain": [
              "2"
            ]
          },
          "metadata": {},
          "execution_count": 5
        }
      ]
    },
    {
      "cell_type": "markdown",
      "source": [
        "## Exe 3: Train and Test\n",
        "\n",
        "Load train and test images and labels with:"
      ],
      "metadata": {
        "id": "t5nwGMbpP9rF"
      }
    },
    {
      "cell_type": "code",
      "source": [
        "(train_images, train_labels),(test_images, test_labels) = cifar10_data"
      ],
      "metadata": {
        "id": "aHu03ewPTlHP"
      },
      "execution_count": null,
      "outputs": []
    },
    {
      "cell_type": "markdown",
      "source": [
        "## Exe 4:\n",
        "\n",
        "The images are 32 x 32 NumPy arrays, with pixel values ranging from 0\n",
        "to 255. You can check an example with:"
      ],
      "metadata": {
        "id": "Bs_zxmn8Tmml"
      }
    },
    {
      "cell_type": "code",
      "source": [
        "print ( train_images[0])\n",
        "print ( train_images[0].shape )"
      ],
      "metadata": {
        "colab": {
          "base_uri": "https://localhost:8080/"
        },
        "id": "EF2nXJGYTqlE",
        "outputId": "325f843d-0ba4-4682-acf4-ed6d5038040f"
      },
      "execution_count": null,
      "outputs": [
        {
          "output_type": "stream",
          "name": "stdout",
          "text": [
            "[[[ 59  62  63]\n",
            "  [ 43  46  45]\n",
            "  [ 50  48  43]\n",
            "  ...\n",
            "  [158 132 108]\n",
            "  [152 125 102]\n",
            "  [148 124 103]]\n",
            "\n",
            " [[ 16  20  20]\n",
            "  [  0   0   0]\n",
            "  [ 18   8   0]\n",
            "  ...\n",
            "  [123  88  55]\n",
            "  [119  83  50]\n",
            "  [122  87  57]]\n",
            "\n",
            " [[ 25  24  21]\n",
            "  [ 16   7   0]\n",
            "  [ 49  27   8]\n",
            "  ...\n",
            "  [118  84  50]\n",
            "  [120  84  50]\n",
            "  [109  73  42]]\n",
            "\n",
            " ...\n",
            "\n",
            " [[208 170  96]\n",
            "  [201 153  34]\n",
            "  [198 161  26]\n",
            "  ...\n",
            "  [160 133  70]\n",
            "  [ 56  31   7]\n",
            "  [ 53  34  20]]\n",
            "\n",
            " [[180 139  96]\n",
            "  [173 123  42]\n",
            "  [186 144  30]\n",
            "  ...\n",
            "  [184 148  94]\n",
            "  [ 97  62  34]\n",
            "  [ 83  53  34]]\n",
            "\n",
            " [[177 144 116]\n",
            "  [168 129  94]\n",
            "  [179 142  87]\n",
            "  ...\n",
            "  [216 184 140]\n",
            "  [151 118  84]\n",
            "  [123  92  72]]]\n",
            "(32, 32, 3)\n"
          ]
        }
      ]
    },
    {
      "cell_type": "code",
      "source": [
        "np.unique(train_labels)"
      ],
      "metadata": {
        "colab": {
          "base_uri": "https://localhost:8080/"
        },
        "id": "tdJasNPVTv8G",
        "outputId": "afa07a67-970b-4bd5-8274-c875ead5e847"
      },
      "execution_count": null,
      "outputs": [
        {
          "output_type": "execute_result",
          "data": {
            "text/plain": [
              "array([0, 1, 2, 3, 4, 5, 6, 7, 8, 9], dtype=uint8)"
            ]
          },
          "metadata": {},
          "execution_count": 8
        }
      ]
    },
    {
      "cell_type": "markdown",
      "source": [
        "## Exe 5: Chek\n",
        "\n",
        "Check the dataset using the following commands:"
      ],
      "metadata": {
        "id": "Es46ai0xT26Q"
      }
    },
    {
      "cell_type": "code",
      "source": [
        "print(\"train_images shape : \",train_images.shape)\n",
        "\n",
        "print(\"train_labels size\", len(train_labels))\n",
        "\n",
        "print(\"train_labels\",train_labels)\n",
        "\n",
        "print(\"test_images shape : \",test_images.shape)\n",
        "\n",
        "print(\"test_labels\",test_labels)"
      ],
      "metadata": {
        "colab": {
          "base_uri": "https://localhost:8080/"
        },
        "id": "MWaAn4KBT2C4",
        "outputId": "2943279d-880a-4824-da03-4c16bdbc55fd"
      },
      "execution_count": null,
      "outputs": [
        {
          "output_type": "stream",
          "name": "stdout",
          "text": [
            "train_images shape :  (50000, 32, 32, 3)\n",
            "train_labels size 50000\n",
            "train_labels [[6]\n",
            " [9]\n",
            " [9]\n",
            " ...\n",
            " [9]\n",
            " [1]\n",
            " [1]]\n",
            "test_images shape :  (10000, 32, 32, 3)\n",
            "test_labels [[3]\n",
            " [8]\n",
            " [8]\n",
            " ...\n",
            " [5]\n",
            " [1]\n",
            " [7]]\n"
          ]
        }
      ]
    },
    {
      "cell_type": "markdown",
      "source": [
        "## Exe 6: Image Visualization\n",
        "\n",
        "An interesting fact about the image is that it can be plotted. To visualize an image, you can use the following code:"
      ],
      "metadata": {
        "id": "Q3rD-pstT_mN"
      }
    },
    {
      "cell_type": "code",
      "source": [
        "index = 50\n",
        "plt.figure()\n",
        "plt.imshow(train_images[index])\n",
        "plt.colorbar()\n",
        "plt.show()\n",
        "\n",
        "train_labels[index]"
      ],
      "metadata": {
        "colab": {
          "base_uri": "https://localhost:8080/",
          "height": 447
        },
        "id": "jAyspozuUD-I",
        "outputId": "85c8fca2-88dd-4ab8-9a95-c7976a344db3"
      },
      "execution_count": null,
      "outputs": [
        {
          "output_type": "display_data",
          "data": {
            "text/plain": [
              "<Figure size 640x480 with 2 Axes>"
            ],
            "image/png": "[encoded data removed]"
          },
          "metadata": {}
        },
        {
          "output_type": "execute_result",
          "data": {
            "text/plain": [
              "array([9], dtype=uint8)"
            ]
          },
          "metadata": {},
          "execution_count": 10
        }
      ]
    },
    {
      "cell_type": "code",
      "source": [
        "import ssl\n",
        "##from tensorflow.keras.datasets import cifar10\n",
        "\n",
        "# Disable SSL verification (temporary solution)\n",
        "#ssl._create_default_https_context = ssl._create_unverified_context\n",
        "\n",
        "# Load CIFAR-10 data\n",
        "#cifar10_data = cifar10.load_data()\n",
        "\n",
        "# Re-enable SSL verification (optional)\n",
        "#ssl._create_default_https_context = ssl._create_default_https_context"
      ],
      "metadata": {
        "id": "G90eF3cZZlGE"
      },
      "execution_count": null,
      "outputs": []
    },
    {
      "cell_type": "markdown",
      "source": [
        "## Exe 7 : Display images and class name\n",
        "\n",
        "To verify that the data is in the correct format and that you're ready to\n",
        "build and train the network, let's display the first 25 images from the training\n",
        "set and display the class name below each image."
      ],
      "metadata": {
        "id": "Hiaui9iOUJHi"
      }
    },
    {
      "cell_type": "code",
      "source": [
        "class_names = [ 'airplane' , 'automobile' , 'bird' , 'cat' , 'deer' , 'dog' , 'frog' , 'horse' , 'ship' , 'truck']"
      ],
      "metadata": {
        "id": "8HJTPi3vULkD"
      },
      "execution_count": null,
      "outputs": []
    },
    {
      "cell_type": "code",
      "source": [
        "plt.figure(figsize=(20,20))\n",
        "for i in range(25):\n",
        "    plt.subplot(5,5,i+1)\n",
        "    plt.xticks([])\n",
        "    plt.yticks([])\n",
        "   # plt.grid(False)\n",
        "    plt.imshow(train_images[i])\n",
        "    plt.xlabel(class_names[train_labels[i][0]])\n",
        "plt.show()"
      ],
      "metadata": {
        "colab": {
          "base_uri": "https://localhost:8080/",
          "height": 1000
        },
        "id": "05yOlft8UWBa",
        "outputId": "b576429c-0d85-47b0-97b4-b315379852b0"
      },
      "execution_count": null,
      "outputs": [
        {
          "output_type": "display_data",
          "data": {
            "text/plain": [
              "<Figure size 2000x2000 with 25 Axes>"
            ],
            "image/png": "[encoded data removed]"
          },
          "metadata": {}
        }
      ]
    },
    {
      "cell_type": "markdown",
      "source": [
        "## Exe 8: Dataset Normalization\n",
        "\n",
        "Normalize the train and test sets using the following code"
      ],
      "metadata": {
        "id": "5TMDlNttUTu5"
      }
    },
    {
      "cell_type": "code",
      "source": [
        "train_images_before = train_images\n",
        "test_images_before = test_images"
      ],
      "metadata": {
        "id": "fPI6ND4eUesV"
      },
      "execution_count": null,
      "outputs": []
    },
    {
      "cell_type": "code",
      "source": [
        "train_images = train_images / 255.0\n",
        "test_images = test_images / 255.0"
      ],
      "metadata": {
        "id": "H88JwUjfUg9S"
      },
      "execution_count": null,
      "outputs": []
    },
    {
      "cell_type": "code",
      "source": [
        "train_images"
      ],
      "metadata": {
        "id": "v7JiMXwfUkES"
      },
      "execution_count": null,
      "outputs": []
    },
    {
      "cell_type": "markdown",
      "source": [
        "## Exo 9: Model\n",
        "\n",
        "Build a neural network with the following structure:\n",
        "\n",
        "\n",
        "1.   The first layer should be a **Flatten** layer that transforms the format of the images from a two-dimensional array (32 by 32 pixels) to a one-dimensional array (1024 pixels). This layer simply unstacks the rows of pixels in the image and lines them up. It has no parameters to learn and only reformats the data.\n",
        "\n",
        "2.   After the pixels are flattened, the network should consist of two **Dense** layers. The first **Dense** layer should have 128 neurons.\n",
        "\n",
        "3.   The second (and last) layer should be a **softmax** layer with 10 neurons, which returns an array of 10 probability scores that sum to 1. Each neuron contains a score indicating the probability that the current image belongs to one of the 10 classes."
      ],
      "metadata": {
        "id": "n3byMSmNUos5"
      }
    },
    {
      "cell_type": "code",
      "source": [
        "model = keras.Sequential([\n",
        "    keras.layers.Flatten(input_shape=(32, 32, 3)),\n",
        "    keras.layers.Dense(128, activation='relu'),\n",
        "    keras.layers.Dense(10, activation='softmax')\n",
        "])"
      ],
      "metadata": {
        "id": "4QuOBz6vUsvH"
      },
      "execution_count": null,
      "outputs": []
    },
    {
      "cell_type": "markdown",
      "source": [
        "## Exe 10: Train the model\n",
        "\n",
        "Compile the model using the appropriate optimizer, loss function, and metrics. Set the optimizer to 'adam', the loss function to 'sparse_categorical_crossentropy', and the metric to 'accuracy'.\n",
        "\n",
        "Train the model, using the fit method on the model object. Pass in the train_images as the training data and train_labels as the corresponding labels."
      ],
      "metadata": {
        "id": "I6nx9weiU4Zp"
      }
    },
    {
      "cell_type": "code",
      "source": [
        "model.compile(optimizer='adam',\n",
        "              loss='sparse_categorical_crossentropy',\n",
        "              metrics=['accuracy'])"
      ],
      "metadata": {
        "id": "qU6jh_NpU5T_"
      },
      "execution_count": null,
      "outputs": []
    },
    {
      "cell_type": "code",
      "source": [
        "model.fit(train_images, train_labels, epochs=10)"
      ],
      "metadata": {
        "colab": {
          "base_uri": "https://localhost:8080/"
        },
        "id": "f9jDzezRVCVv",
        "outputId": "1dddae36-2d93-4dd4-b065-7837ccf35fd9"
      },
      "execution_count": null,
      "outputs": [
        {
          "output_type": "stream",
          "name": "stdout",
          "text": [
            "Epoch 1/10\n",
            "1563/1563 [==============================] - 14s 8ms/step - loss: 1.9188 - accuracy: 0.3072\n",
            "Epoch 2/10\n",
            "1563/1563 [==============================] - 12s 7ms/step - loss: 1.7695 - accuracy: 0.3673\n",
            "Epoch 3/10\n",
            "1563/1563 [==============================] - 13s 8ms/step - loss: 1.7256 - accuracy: 0.3845\n",
            "Epoch 4/10\n",
            "1563/1563 [==============================] - 15s 10ms/step - loss: 1.7013 - accuracy: 0.3940\n",
            "Epoch 5/10\n",
            "1563/1563 [==============================] - 12s 8ms/step - loss: 1.6797 - accuracy: 0.4014\n",
            "Epoch 6/10\n",
            "1563/1563 [==============================] - 12s 8ms/step - loss: 1.6654 - accuracy: 0.4073\n",
            "Epoch 7/10\n",
            "1563/1563 [==============================] - 10s 7ms/step - loss: 1.6521 - accuracy: 0.4094\n",
            "Epoch 8/10\n",
            "1563/1563 [==============================] - 12s 7ms/step - loss: 1.6444 - accuracy: 0.4124\n",
            "Epoch 9/10\n",
            "1563/1563 [==============================] - 12s 8ms/step - loss: 1.6362 - accuracy: 0.4144\n",
            "Epoch 10/10\n",
            "1563/1563 [==============================] - 13s 9ms/step - loss: 1.6288 - accuracy: 0.4176\n"
          ]
        },
        {
          "output_type": "execute_result",
          "data": {
            "text/plain": [
              "<keras.callbacks.History at 0x7f5d345f29e0>"
            ]
          },
          "metadata": {},
          "execution_count": 63
        }
      ]
    },
    {
      "cell_type": "markdown",
      "source": [
        "## Exe 11: Evaluate the model\n",
        "\n",
        "Chek the model performance on the test dataset."
      ],
      "metadata": {
        "id": "IHZX17lKVTg6"
      }
    },
    {
      "cell_type": "code",
      "source": [
        "test_loss, test_acc = model.evaluate(test_images,  test_labels, verbose=2)\n",
        "\n",
        "print('\\nTest accuracy:', test_acc)"
      ],
      "metadata": {
        "colab": {
          "base_uri": "https://localhost:8080/"
        },
        "id": "NJelBNIzVY1o",
        "outputId": "a9157465-5446-4b54-f194-f0dad77f3e09"
      },
      "execution_count": null,
      "outputs": [
        {
          "output_type": "stream",
          "name": "stdout",
          "text": [
            "313/313 - 1s - loss: 1.6863 - accuracy: 0.4003 - 710ms/epoch - 2ms/step\n",
            "\n",
            "Test accuracy: 0.400299996137619\n"
          ]
        }
      ]
    },
    {
      "cell_type": "markdown",
      "source": [
        "## Exo12\n",
        "\n",
        "Now that the model has been trained, we can use it to make predictions on some images.\n",
        "\n",
        "1.  Use the trained model to make predictions on the test_images dataset by calling model.predict(test_images). This will generate predictions for each image in the testing set.\n",
        "\n",
        "2. Print the first, second, and third element of the predicted test set. Each element contains 10 values representing the probability of each label.\n",
        "\n",
        "3. After printing the predicted test set, use the np.argmax() function to choose the label with the highest probability for each element.\n",
        "\n",
        "4. Compare the predicted label for the first three elements with their actual labels. How many of them are correct?"
      ],
      "metadata": {
        "id": "LbTek6WTVaNg"
      }
    },
    {
      "cell_type": "code",
      "source": [
        "predictions = model.predict(test_images)\n"
      ],
      "metadata": {
        "colab": {
          "base_uri": "https://localhost:8080/",
          "height": 166
        },
        "id": "o-ycSqmMVnci",
        "outputId": "398e0a58-9041-4047-968b-3981902bc1e7"
      },
      "execution_count": null,
      "outputs": [
        {
          "output_type": "error",
          "ename": "NameError",
          "evalue": "ignored",
          "traceback": [
            "\u001b[0;31m---------------------------------------------------------------------------\u001b[0m",
            "\u001b[0;31mNameError\u001b[0m                                 Traceback (most recent call last)",
            "\u001b[0;32m<ipython-input-15-b9903f35901d>\u001b[0m in \u001b[0;36m<cell line: 1>\u001b[0;34m()\u001b[0m\n\u001b[0;32m----> 1\u001b[0;31m \u001b[0mpredictions\u001b[0m \u001b[0;34m=\u001b[0m \u001b[0mmodel\u001b[0m\u001b[0;34m.\u001b[0m\u001b[0mpredict\u001b[0m\u001b[0;34m(\u001b[0m\u001b[0mtest_images\u001b[0m\u001b[0;34m)\u001b[0m\u001b[0;34m\u001b[0m\u001b[0;34m\u001b[0m\u001b[0m\n\u001b[0m",
            "\u001b[0;31mNameError\u001b[0m: name 'test_images' is not defined"
          ]
        }
      ]
    },
    {
      "cell_type": "code",
      "source": [
        "predictions[10]"
      ],
      "metadata": {
        "colab": {
          "base_uri": "https://localhost:8080/"
        },
        "id": "bott6dprVqsL",
        "outputId": "c63bf6fd-fd31-45a8-e6fb-14a8665ab3bb"
      },
      "execution_count": null,
      "outputs": [
        {
          "output_type": "execute_result",
          "data": {
            "text/plain": [
              "array([0.13412029, 0.04687317, 0.03039333, 0.07183407, 0.0375597 ,\n",
              "       0.06503414, 0.01106898, 0.00682861, 0.5789651 , 0.01732263],\n",
              "      dtype=float32)"
            ]
          },
          "metadata": {},
          "execution_count": 66
        }
      ]
    },
    {
      "cell_type": "code",
      "source": [
        "np.argmax(predictions[10])"
      ],
      "metadata": {
        "colab": {
          "base_uri": "https://localhost:8080/",
          "height": 166
        },
        "id": "8KZ6ieyMVyyb",
        "outputId": "25a49b5d-101e-4ccf-fb32-ad9377547e05"
      },
      "execution_count": null,
      "outputs": [
        {
          "output_type": "error",
          "ename": "NameError",
          "evalue": "ignored",
          "traceback": [
            "\u001b[0;31m---------------------------------------------------------------------------\u001b[0m",
            "\u001b[0;31mNameError\u001b[0m                                 Traceback (most recent call last)",
            "\u001b[0;32m<ipython-input-16-cbc8aede0fe9>\u001b[0m in \u001b[0;36m<cell line: 1>\u001b[0;34m()\u001b[0m\n\u001b[0;32m----> 1\u001b[0;31m \u001b[0mnp\u001b[0m\u001b[0;34m.\u001b[0m\u001b[0margmax\u001b[0m\u001b[0;34m(\u001b[0m\u001b[0mpredictions\u001b[0m\u001b[0;34m[\u001b[0m\u001b[0;36m10\u001b[0m\u001b[0;34m]\u001b[0m\u001b[0;34m)\u001b[0m\u001b[0;34m\u001b[0m\u001b[0;34m\u001b[0m\u001b[0m\n\u001b[0m",
            "\u001b[0;31mNameError\u001b[0m: name 'predictions' is not defined"
          ]
        }
      ]
    },
    {
      "cell_type": "code",
      "source": [
        "test_labels[10]"
      ],
      "metadata": {
        "colab": {
          "base_uri": "https://localhost:8080/"
        },
        "id": "mQPxi44EV1Ps",
        "outputId": "60050734-38bc-4d8f-a8cf-33999965b7a4"
      },
      "execution_count": null,
      "outputs": [
        {
          "output_type": "execute_result",
          "data": {
            "text/plain": [
              "array([0], dtype=uint8)"
            ]
          },
          "metadata": {},
          "execution_count": 68
        }
      ]
    },
    {
      "cell_type": "markdown",
      "source": [
        "## Exe13 :  Checking Predicted Labels\n",
        "\n",
        "Now, let's write a function to check the predicted labels and visualize the results. The function should display the predicted labels similar to the above Figure, indicating the probability of the predicted label. If the prediction is correct, the label should be displayed in blue, otherwise in red."
      ],
      "metadata": {
        "id": "pGA_52v_V4ZL"
      }
    },
    {
      "cell_type": "code",
      "source": [
        "def plot_image(i, predictions_array, true_label, img):\n",
        "\n",
        "  true_label = true_label[0]\n",
        "  plt.xticks([])\n",
        "  plt.yticks([])\n",
        "  plt.imshow(img)\n",
        "  predicted_label = np.argmax(predictions_array)\n",
        "  if predicted_label == true_label:\n",
        "    color = 'blue'\n",
        "  else:\n",
        "    color = 'red'\n",
        "\n",
        "  plt.xlabel(\"{} {:2.0f}% ({})\".format(class_names[predicted_label],\n",
        "                                100*np.max(predictions_array),\n",
        "                                class_names[true_label]),\n",
        "                                color=color)"
      ],
      "metadata": {
        "id": "BAb9tMhjV6IJ"
      },
      "execution_count": null,
      "outputs": []
    },
    {
      "cell_type": "code",
      "source": [
        "class_names = [ 'airplane' , 'automobile' , 'bird' , 'cat' , 'deer' , 'dog' , 'frog' , 'horse' , 'ship' , 'truck']\n"
      ],
      "metadata": {
        "id": "mno_VQAoV-N7"
      },
      "execution_count": null,
      "outputs": []
    },
    {
      "cell_type": "code",
      "source": [
        "i = 50\n",
        "plt.figure(figsize=(6,3))\n",
        "plot_image(i, predictions[i], test_labels[i], test_images[i])\n",
        "plt.show()\n",
        "predictions[i]"
      ],
      "metadata": {
        "colab": {
          "base_uri": "https://localhost:8080/",
          "height": 339
        },
        "id": "33p62VQEWAf2",
        "outputId": "619042fa-be26-4d5d-99d0-82a776f31487"
      },
      "execution_count": null,
      "outputs": [
        {
          "output_type": "display_data",
          "data": {
            "text/plain": [
              "<Figure size 600x300 with 1 Axes>"
            ],
            "image/png": "[encoded data removed]"
          },
          "metadata": {}
        },
        {
          "output_type": "execute_result",
          "data": {
            "text/plain": [
              "array([0.04173291, 0.28020394, 0.00336408, 0.02091503, 0.00228156,\n",
              "       0.01225558, 0.00259121, 0.01487323, 0.06224109, 0.5595414 ],\n",
              "      dtype=float32)"
            ]
          },
          "metadata": {},
          "execution_count": 71
        }
      ]
    }
  ]
}